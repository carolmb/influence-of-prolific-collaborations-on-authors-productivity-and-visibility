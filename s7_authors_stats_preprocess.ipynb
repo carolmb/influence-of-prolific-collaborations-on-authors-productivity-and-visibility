{
 "cells": [
  {
   "cell_type": "code",
   "execution_count": 16,
   "metadata": {},
   "outputs": [
    {
     "name": "stdout",
     "output_type": "stream",
     "text": [
      "The autoreload extension is already loaded. To reload it, use:\n",
      "  %reload_ext autoreload\n"
     ]
    }
   ],
   "source": [
    "%load_ext autoreload\n",
    "%autoreload 2"
   ]
  },
  {
   "cell_type": "code",
   "execution_count": 1,
   "metadata": {},
   "outputs": [],
   "source": [
    "import glob, json, tqdm\n",
    "import numpy as np\n",
    "import pandas as pd\n",
    "import s4_authors_stats as s4\n",
    "import dask.dataframe as dd\n",
    "import matplotlib.pyplot as plt\n",
    "from scipy.stats import rankdata\n",
    "from scipy.stats import pearsonr, spearmanr\n",
    "from matplotlib.colors import LogNorm\n",
    "\n",
    "from collections import defaultdict\n",
    "from functools import partial\n",
    "from multiprocessing import Pool\n",
    "from tqdm.contrib.concurrent import process_map"
   ]
  },
  {
   "cell_type": "code",
   "execution_count": 2,
   "metadata": {},
   "outputs": [],
   "source": [
    "plt.rcParams[\"axes.prop_cycle\"] = plt.cycler(\"color\", plt.cm.tab20.colors)\n",
    "NCOLS = 4\n",
    "SUFFIX = 2020\n",
    "SUFFIX_STR = '_%d' % SUFFIX"
   ]
  },
  {
   "cell_type": "code",
   "execution_count": 3,
   "metadata": {},
   "outputs": [],
   "source": [
    "header = '/mnt/e/MAG/mag-2021-01-05/advanced/'\n",
    "fields_infos = 'FieldsOfStudy.txt'\n",
    "fos_infos = pd.read_csv(header+fields_infos, header=None, sep='\\t')[[0, 1, 2]]\n",
    "fos_infos.columns = ['field_id', 'rank', 'normalized_name']"
   ]
  },
  {
   "cell_type": "code",
   "execution_count": 20,
   "metadata": {},
   "outputs": [
    {
     "data": {
      "text/html": [
       "<div>\n",
       "<style scoped>\n",
       "    .dataframe tbody tr th:only-of-type {\n",
       "        vertical-align: middle;\n",
       "    }\n",
       "\n",
       "    .dataframe tbody tr th {\n",
       "        vertical-align: top;\n",
       "    }\n",
       "\n",
       "    .dataframe thead th {\n",
       "        text-align: right;\n",
       "    }\n",
       "</style>\n",
       "<table border=\"1\" class=\"dataframe\">\n",
       "  <thead>\n",
       "    <tr style=\"text-align: right;\">\n",
       "      <th></th>\n",
       "      <th>cits</th>\n",
       "    </tr>\n",
       "    <tr>\n",
       "      <th>author_id</th>\n",
       "      <th></th>\n",
       "    </tr>\n",
       "  </thead>\n",
       "  <tbody>\n",
       "    <tr>\n",
       "      <th>5211</th>\n",
       "      <td>{\"1141255472\": [14], \"1970691061\": [0, 0, 1, 4...</td>\n",
       "    </tr>\n",
       "    <tr>\n",
       "      <th>6478</th>\n",
       "      <td>{\"1278312360\": [10, 23, 8], \"1397579107\": [23,...</td>\n",
       "    </tr>\n",
       "    <tr>\n",
       "      <th>11720</th>\n",
       "      <td>{\"1214880279\": [35, 41, 24], \"1250321752\": [15...</td>\n",
       "    </tr>\n",
       "    <tr>\n",
       "      <th>15251</th>\n",
       "      <td>{\"105506866\": [93], \"1061427020\": [33, 93], \"1...</td>\n",
       "    </tr>\n",
       "    <tr>\n",
       "      <th>16490</th>\n",
       "      <td>{\"1355423769\": [0, 3, 0, 13, 2], \"14095309\": [...</td>\n",
       "    </tr>\n",
       "  </tbody>\n",
       "</table>\n",
       "</div>"
      ],
      "text/plain": [
       "                                                        cits\n",
       "author_id                                                   \n",
       "5211       {\"1141255472\": [14], \"1970691061\": [0, 0, 1, 4...\n",
       "6478       {\"1278312360\": [10, 23, 8], \"1397579107\": [23,...\n",
       "11720      {\"1214880279\": [35, 41, 24], \"1250321752\": [15...\n",
       "15251      {\"105506866\": [93], \"1061427020\": [33, 93], \"1...\n",
       "16490      {\"1355423769\": [0, 3, 0, 13, 2], \"14095309\": [..."
      ]
     },
     "execution_count": 20,
     "metadata": {},
     "output_type": "execute_result"
    }
   ],
   "source": [
    "# pairs_authors_dd = dd.read_csv('data/pair_csv_%d_byAuthorIDprocessed_pairs.csv' % SUFFIX, sep='\\t', header=None, names=['author_id', 'cits'])\n",
    "# pairs_authors_dd = dd.read_csv('data/pair_csv_10a_%dmerged_processed.csv' % SUFFIX, sep='\\t', header=None, names=['author_id', 'cits'])\n",
    "pairs_authors_dd = dd.read_csv('data/PairAuthors2csv_split/pair_csv_year_10a_%d_   *' % SUFFIX, sep='\\t', header=None, names=['author_id', 'cits'])\n",
    "pairs_authors_dd = pairs_authors_dd.set_index('author_id', sorted=True)\n",
    "pairs_authors_dd.head()"
   ]
  },
  {
   "cell_type": "code",
   "execution_count": 21,
   "metadata": {},
   "outputs": [
    {
     "data": {
      "text/html": [
       "<div>\n",
       "<style scoped>\n",
       "    .dataframe tbody tr th:only-of-type {\n",
       "        vertical-align: middle;\n",
       "    }\n",
       "\n",
       "    .dataframe tbody tr th {\n",
       "        vertical-align: top;\n",
       "    }\n",
       "\n",
       "    .dataframe thead th {\n",
       "        text-align: right;\n",
       "    }\n",
       "</style>\n",
       "<table border=\"1\" class=\"dataframe\">\n",
       "  <thead>\n",
       "    <tr style=\"text-align: right;\">\n",
       "      <th></th>\n",
       "      <th>birth_year</th>\n",
       "      <th>citation_count</th>\n",
       "    </tr>\n",
       "    <tr>\n",
       "      <th>author_id</th>\n",
       "      <th></th>\n",
       "      <th></th>\n",
       "    </tr>\n",
       "  </thead>\n",
       "  <tbody>\n",
       "    <tr>\n",
       "      <th>5211</th>\n",
       "      <td>2005</td>\n",
       "      <td>[0, 96.0, 40.0, 46.0, 69.0, 24.0, 13.0, 43.0, ...</td>\n",
       "    </tr>\n",
       "    <tr>\n",
       "      <th>6478</th>\n",
       "      <td>1994</td>\n",
       "      <td>[43.0, 3.0, 0, 1.0, 6.0, 1.0, 21.0, 0, 8.0, 1....</td>\n",
       "    </tr>\n",
       "    <tr>\n",
       "      <th>11720</th>\n",
       "      <td>1999</td>\n",
       "      <td>[2.0, 42.0, 2.0, 17.0, 29.0, 14.0, 0, 17.0, 42...</td>\n",
       "    </tr>\n",
       "    <tr>\n",
       "      <th>15251</th>\n",
       "      <td>1995</td>\n",
       "      <td>[69.0, 38.0, 23.0, 65.0, 93.0, 0, 70.0, 43.0, ...</td>\n",
       "    </tr>\n",
       "    <tr>\n",
       "      <th>16490</th>\n",
       "      <td>1998</td>\n",
       "      <td>[0, 1.0, 0, 0, 6.0, 0, 2.0, 0, 1.0, 0, 0, 0, 5...</td>\n",
       "    </tr>\n",
       "  </tbody>\n",
       "</table>\n",
       "</div>"
      ],
      "text/plain": [
       "           birth_year                                     citation_count\n",
       "author_id                                                               \n",
       "5211             2005  [0, 96.0, 40.0, 46.0, 69.0, 24.0, 13.0, 43.0, ...\n",
       "6478             1994  [43.0, 3.0, 0, 1.0, 6.0, 1.0, 21.0, 0, 8.0, 1....\n",
       "11720            1999  [2.0, 42.0, 2.0, 17.0, 29.0, 14.0, 0, 17.0, 42...\n",
       "15251            1995  [69.0, 38.0, 23.0, 65.0, 93.0, 0, 70.0, 43.0, ...\n",
       "16490            1998  [0, 1.0, 0, 0, 6.0, 0, 2.0, 0, 1.0, 0, 0, 0, 5..."
      ]
     },
     "execution_count": 21,
     "metadata": {},
     "output_type": "execute_result"
    }
   ],
   "source": [
    "authors_infos = dd.read_csv('data/authors_infos_full_10a_final_%d' % SUFFIX, sep='\\t', header=None, \n",
    "                            names=['author_id', 'birth_year', 'citation_count'])\n",
    "authors_infos = authors_infos.set_index('author_id', sorted=True)\n",
    "authors_infos.head()"
   ]
  },
  {
   "cell_type": "code",
   "execution_count": 22,
   "metadata": {},
   "outputs": [
    {
     "data": {
      "text/html": [
       "<div>\n",
       "<style scoped>\n",
       "    .dataframe tbody tr th:only-of-type {\n",
       "        vertical-align: middle;\n",
       "    }\n",
       "\n",
       "    .dataframe tbody tr th {\n",
       "        vertical-align: top;\n",
       "    }\n",
       "\n",
       "    .dataframe thead th {\n",
       "        text-align: right;\n",
       "    }\n",
       "</style>\n",
       "<table border=\"1\" class=\"dataframe\">\n",
       "  <thead>\n",
       "    <tr style=\"text-align: right;\">\n",
       "      <th></th>\n",
       "      <th>cits</th>\n",
       "      <th>birth_year</th>\n",
       "      <th>citation_count</th>\n",
       "    </tr>\n",
       "    <tr>\n",
       "      <th>author_id</th>\n",
       "      <th></th>\n",
       "      <th></th>\n",
       "      <th></th>\n",
       "    </tr>\n",
       "  </thead>\n",
       "  <tbody>\n",
       "    <tr>\n",
       "      <th>5211</th>\n",
       "      <td>{\"1141255472\": [14], \"1970691061\": [0, 0, 1, 4...</td>\n",
       "      <td>2005</td>\n",
       "      <td>[0, 96.0, 40.0, 46.0, 69.0, 24.0, 13.0, 43.0, ...</td>\n",
       "    </tr>\n",
       "    <tr>\n",
       "      <th>6478</th>\n",
       "      <td>{\"1278312360\": [10, 23, 8], \"1397579107\": [23,...</td>\n",
       "      <td>1994</td>\n",
       "      <td>[43.0, 3.0, 0, 1.0, 6.0, 1.0, 21.0, 0, 8.0, 1....</td>\n",
       "    </tr>\n",
       "    <tr>\n",
       "      <th>11720</th>\n",
       "      <td>{\"1214880279\": [35, 41, 24], \"1250321752\": [15...</td>\n",
       "      <td>1999</td>\n",
       "      <td>[2.0, 42.0, 2.0, 17.0, 29.0, 14.0, 0, 17.0, 42...</td>\n",
       "    </tr>\n",
       "    <tr>\n",
       "      <th>15251</th>\n",
       "      <td>{\"105506866\": [93], \"1061427020\": [33, 93], \"1...</td>\n",
       "      <td>1995</td>\n",
       "      <td>[69.0, 38.0, 23.0, 65.0, 93.0, 0, 70.0, 43.0, ...</td>\n",
       "    </tr>\n",
       "    <tr>\n",
       "      <th>16490</th>\n",
       "      <td>{\"1355423769\": [0, 3, 0, 13, 2], \"14095309\": [...</td>\n",
       "      <td>1998</td>\n",
       "      <td>[0, 1.0, 0, 0, 6.0, 0, 2.0, 0, 1.0, 0, 0, 0, 5...</td>\n",
       "    </tr>\n",
       "  </tbody>\n",
       "</table>\n",
       "</div>"
      ],
      "text/plain": [
       "                                                        cits  birth_year  \\\n",
       "author_id                                                                  \n",
       "5211       {\"1141255472\": [14], \"1970691061\": [0, 0, 1, 4...        2005   \n",
       "6478       {\"1278312360\": [10, 23, 8], \"1397579107\": [23,...        1994   \n",
       "11720      {\"1214880279\": [35, 41, 24], \"1250321752\": [15...        1999   \n",
       "15251      {\"105506866\": [93], \"1061427020\": [33, 93], \"1...        1995   \n",
       "16490      {\"1355423769\": [0, 3, 0, 13, 2], \"14095309\": [...        1998   \n",
       "\n",
       "                                              citation_count  \n",
       "author_id                                                     \n",
       "5211       [0, 96.0, 40.0, 46.0, 69.0, 24.0, 13.0, 43.0, ...  \n",
       "6478       [43.0, 3.0, 0, 1.0, 6.0, 1.0, 21.0, 0, 8.0, 1....  \n",
       "11720      [2.0, 42.0, 2.0, 17.0, 29.0, 14.0, 0, 17.0, 42...  \n",
       "15251      [69.0, 38.0, 23.0, 65.0, 93.0, 0, 70.0, 43.0, ...  \n",
       "16490      [0, 1.0, 0, 0, 6.0, 0, 2.0, 0, 1.0, 0, 0, 0, 5...  "
      ]
     },
     "execution_count": 22,
     "metadata": {},
     "output_type": "execute_result"
    }
   ],
   "source": [
    "pairs_authors_dd2 = pairs_authors_dd.merge(authors_infos, left_index=True, right_index=True)\n",
    "pairs_authors_dd2.head()"
   ]
  },
  {
   "cell_type": "code",
   "execution_count": null,
   "metadata": {},
   "outputs": [],
   "source": []
  },
  {
   "cell_type": "code",
   "execution_count": 23,
   "metadata": {},
   "outputs": [
    {
     "data": {
      "text/html": [
       "<div>\n",
       "<style scoped>\n",
       "    .dataframe tbody tr th:only-of-type {\n",
       "        vertical-align: middle;\n",
       "    }\n",
       "\n",
       "    .dataframe tbody tr th {\n",
       "        vertical-align: top;\n",
       "    }\n",
       "\n",
       "    .dataframe thead th {\n",
       "        text-align: right;\n",
       "    }\n",
       "</style>\n",
       "<table border=\"1\" class=\"dataframe\">\n",
       "  <thead>\n",
       "    <tr style=\"text-align: right;\">\n",
       "      <th></th>\n",
       "      <th>author_id</th>\n",
       "      <th>weights</th>\n",
       "      <th>fos</th>\n",
       "    </tr>\n",
       "  </thead>\n",
       "  <tbody>\n",
       "    <tr>\n",
       "      <th>0</th>\n",
       "      <td>5211</td>\n",
       "      <td>{\"185592680\": 2.5528422503422505, \"192562407\":...</td>\n",
       "      <td>86803240.0</td>\n",
       "    </tr>\n",
       "    <tr>\n",
       "      <th>1</th>\n",
       "      <td>6478</td>\n",
       "      <td>{\"121332964\": 0.10876623376623376, \"71924100\":...</td>\n",
       "      <td>86803240.0</td>\n",
       "    </tr>\n",
       "    <tr>\n",
       "      <th>2</th>\n",
       "      <td>11720</td>\n",
       "      <td>{\"121332964\": 6.0506721056721045, \"185592680\":...</td>\n",
       "      <td>185592680.0</td>\n",
       "    </tr>\n",
       "    <tr>\n",
       "      <th>3</th>\n",
       "      <td>15251</td>\n",
       "      <td>{\"127313418\": 0.39979657687991027, \"86803240\":...</td>\n",
       "      <td>86803240.0</td>\n",
       "    </tr>\n",
       "    <tr>\n",
       "      <th>4</th>\n",
       "      <td>16490</td>\n",
       "      <td>{\"121332964\": 3.018797061524334, \"205649164\": ...</td>\n",
       "      <td>86803240.0</td>\n",
       "    </tr>\n",
       "  </tbody>\n",
       "</table>\n",
       "</div>"
      ],
      "text/plain": [
       "   author_id                                            weights          fos\n",
       "0       5211  {\"185592680\": 2.5528422503422505, \"192562407\":...   86803240.0\n",
       "1       6478  {\"121332964\": 0.10876623376623376, \"71924100\":...   86803240.0\n",
       "2      11720  {\"121332964\": 6.0506721056721045, \"185592680\":...  185592680.0\n",
       "3      15251  {\"127313418\": 0.39979657687991027, \"86803240\":...   86803240.0\n",
       "4      16490  {\"121332964\": 3.018797061524334, \"205649164\": ...   86803240.0"
      ]
     },
     "execution_count": 23,
     "metadata": {},
     "output_type": "execute_result"
    }
   ],
   "source": [
    "authors_fos = dd.read_csv('data/valid_authors_%d_fos_10a_full.csv' % SUFFIX, sep='\\t', header=None, \n",
    "                          names=['author_id', 'weights', 'fos'], dtype={'fos': 'float64'})\n",
    "\n",
    "# authors_fos = authors_fos.set_index('author_id', sorted=True)\n",
    "\n",
    "authors_fos.head()"
   ]
  },
  {
   "cell_type": "code",
   "execution_count": 24,
   "metadata": {},
   "outputs": [
    {
     "data": {
      "text/plain": [
       "2633341"
      ]
     },
     "execution_count": 24,
     "metadata": {},
     "output_type": "execute_result"
    }
   ],
   "source": [
    "len(authors_fos)"
   ]
  },
  {
   "cell_type": "code",
   "execution_count": 102,
   "metadata": {},
   "outputs": [
    {
     "data": {
      "text/plain": [
       "2633343"
      ]
     },
     "execution_count": 102,
     "metadata": {},
     "output_type": "execute_result"
    }
   ],
   "source": [
    "len(authors_fos['author_id'].unique())"
   ]
  },
  {
   "cell_type": "code",
   "execution_count": 25,
   "metadata": {},
   "outputs": [
    {
     "data": {
      "text/html": [
       "<div>\n",
       "<style scoped>\n",
       "    .dataframe tbody tr th:only-of-type {\n",
       "        vertical-align: middle;\n",
       "    }\n",
       "\n",
       "    .dataframe tbody tr th {\n",
       "        vertical-align: top;\n",
       "    }\n",
       "\n",
       "    .dataframe thead th {\n",
       "        text-align: right;\n",
       "    }\n",
       "</style>\n",
       "<table border=\"1\" class=\"dataframe\">\n",
       "  <thead>\n",
       "    <tr style=\"text-align: right;\">\n",
       "      <th></th>\n",
       "      <th>author_id</th>\n",
       "      <th>cits</th>\n",
       "      <th>birth_year</th>\n",
       "      <th>citation_count</th>\n",
       "      <th>weights</th>\n",
       "      <th>fos</th>\n",
       "    </tr>\n",
       "  </thead>\n",
       "  <tbody>\n",
       "    <tr>\n",
       "      <th>0</th>\n",
       "      <td>2616390428</td>\n",
       "      <td>{\"1178076191\": [0, 0, 12, 1], \"1636865778\": [1...</td>\n",
       "      <td>1997</td>\n",
       "      <td>[42.0, 1.0, 21.0, 5.0, 29.0, 381.0, 0, 2.0, 28...</td>\n",
       "      <td>{\"121332964\": 7.235931765300553, \"127313418\": ...</td>\n",
       "      <td>127413603.0</td>\n",
       "    </tr>\n",
       "    <tr>\n",
       "      <th>1</th>\n",
       "      <td>2616917672</td>\n",
       "      <td>{\"1228500020\": [0], \"1276142888\": [1], \"136144...</td>\n",
       "      <td>1983</td>\n",
       "      <td>[1.0, 0, 11.0, 9.0, 51.0, 308.0, 0, 0, 10.0, 0...</td>\n",
       "      <td>{\"127413603\": 1.09650750252254, \"33923547\": 1....</td>\n",
       "      <td>71924100.0</td>\n",
       "    </tr>\n",
       "    <tr>\n",
       "      <th>2</th>\n",
       "      <td>2616918103</td>\n",
       "      <td>{\"1010813668\": [2], \"1824135441\": [1, 2, 3], \"...</td>\n",
       "      <td>1999</td>\n",
       "      <td>[724.0, 28.0, 45.0, 388.0, 17.0, 130.0, 44.0, ...</td>\n",
       "      <td>{\"121332964\": 2.0422101972101974, \"192562407\":...</td>\n",
       "      <td>86803240.0</td>\n",
       "    </tr>\n",
       "    <tr>\n",
       "      <th>3</th>\n",
       "      <td>2616941960</td>\n",
       "      <td>{\"1125519048\": [0, 10, 1, 46, 4, 7], \"19758941...</td>\n",
       "      <td>1972</td>\n",
       "      <td>[45.0, 13.0, 9.0, 2.0, 42.0, 10.0, 12.0, 0, 3....</td>\n",
       "      <td>{\"121332964\": 0.2526809764309765, \"192562407\":...</td>\n",
       "      <td>86803240.0</td>\n",
       "    </tr>\n",
       "    <tr>\n",
       "      <th>4</th>\n",
       "      <td>2616956517</td>\n",
       "      <td>{\"1809694980\": [6, 9], \"1957720414\": [13], \"20...</td>\n",
       "      <td>2004</td>\n",
       "      <td>[0, 0, 2.0, 0, 0, 0, 11.0, 17.0, 1.0, 13.0, 12...</td>\n",
       "      <td>{\"127413603\": 2.2079316979316985, \"192562407\":...</td>\n",
       "      <td>86803240.0</td>\n",
       "    </tr>\n",
       "  </tbody>\n",
       "</table>\n",
       "</div>"
      ],
      "text/plain": [
       "    author_id                                               cits  birth_year  \\\n",
       "0  2616390428  {\"1178076191\": [0, 0, 12, 1], \"1636865778\": [1...        1997   \n",
       "1  2616917672  {\"1228500020\": [0], \"1276142888\": [1], \"136144...        1983   \n",
       "2  2616918103  {\"1010813668\": [2], \"1824135441\": [1, 2, 3], \"...        1999   \n",
       "3  2616941960  {\"1125519048\": [0, 10, 1, 46, 4, 7], \"19758941...        1972   \n",
       "4  2616956517  {\"1809694980\": [6, 9], \"1957720414\": [13], \"20...        2004   \n",
       "\n",
       "                                      citation_count  \\\n",
       "0  [42.0, 1.0, 21.0, 5.0, 29.0, 381.0, 0, 2.0, 28...   \n",
       "1  [1.0, 0, 11.0, 9.0, 51.0, 308.0, 0, 0, 10.0, 0...   \n",
       "2  [724.0, 28.0, 45.0, 388.0, 17.0, 130.0, 44.0, ...   \n",
       "3  [45.0, 13.0, 9.0, 2.0, 42.0, 10.0, 12.0, 0, 3....   \n",
       "4  [0, 0, 2.0, 0, 0, 0, 11.0, 17.0, 1.0, 13.0, 12...   \n",
       "\n",
       "                                             weights          fos  \n",
       "0  {\"121332964\": 7.235931765300553, \"127313418\": ...  127413603.0  \n",
       "1  {\"127413603\": 1.09650750252254, \"33923547\": 1....   71924100.0  \n",
       "2  {\"121332964\": 2.0422101972101974, \"192562407\":...   86803240.0  \n",
       "3  {\"121332964\": 0.2526809764309765, \"192562407\":...   86803240.0  \n",
       "4  {\"127413603\": 2.2079316979316985, \"192562407\":...   86803240.0  "
      ]
     },
     "execution_count": 25,
     "metadata": {},
     "output_type": "execute_result"
    }
   ],
   "source": [
    "authors_complete = pairs_authors_dd2.merge(authors_fos, on='author_id')\n",
    "authors_complete.head(5)"
   ]
  },
  {
   "cell_type": "code",
   "execution_count": 26,
   "metadata": {},
   "outputs": [
    {
     "name": "stdout",
     "output_type": "stream",
     "text": [
      "[########################################] | 100% Completed |  6min  4.7s\n"
     ]
    }
   ],
   "source": [
    "from dask.diagnostics import ProgressBar\n",
    "with ProgressBar():\n",
    "    authors_complete.to_csv('data/AuthorsMetrics_split/authors_metrics_full_10a_%d' % SUFFIX, sep='\\t', header=None, index=None, single_file=True)"
   ]
  },
  {
   "cell_type": "code",
   "execution_count": 4,
   "metadata": {},
   "outputs": [
    {
     "data": {
      "text/html": [
       "<div>\n",
       "<style scoped>\n",
       "    .dataframe tbody tr th:only-of-type {\n",
       "        vertical-align: middle;\n",
       "    }\n",
       "\n",
       "    .dataframe tbody tr th {\n",
       "        vertical-align: top;\n",
       "    }\n",
       "\n",
       "    .dataframe thead th {\n",
       "        text-align: right;\n",
       "    }\n",
       "</style>\n",
       "<table border=\"1\" class=\"dataframe\">\n",
       "  <thead>\n",
       "    <tr style=\"text-align: right;\">\n",
       "      <th></th>\n",
       "      <th>author_id</th>\n",
       "      <th>cits</th>\n",
       "      <th>birth_year</th>\n",
       "      <th>citation_count</th>\n",
       "      <th>weights</th>\n",
       "      <th>fos</th>\n",
       "    </tr>\n",
       "  </thead>\n",
       "  <tbody>\n",
       "    <tr>\n",
       "      <th>0</th>\n",
       "      <td>2632943989</td>\n",
       "      <td>{\"1822016271\": [0, 125, 29, 43, 70], \"20549333...</td>\n",
       "      <td>1981</td>\n",
       "      <td>[0, 0, 0, 0, 0, 0, 11.0, 19.0, 125.0, 15.0, 13...</td>\n",
       "      <td>{\"144024400\": 0.13181818181818183, \"17744445\":...</td>\n",
       "      <td>71924100.0</td>\n",
       "    </tr>\n",
       "    <tr>\n",
       "      <th>1</th>\n",
       "      <td>2632944995</td>\n",
       "      <td>{\"2463522222\": [42], \"2616990729\": [15, 94], \"...</td>\n",
       "      <td>1990</td>\n",
       "      <td>[42.0, 15.0, 29.0, 9.0, 94.0, 20.0, 0, 5.0, 3....</td>\n",
       "      <td>{\"138885662\": 0.8166666666666667, \"142362112\":...</td>\n",
       "      <td>71924100.0</td>\n",
       "    </tr>\n",
       "    <tr>\n",
       "      <th>2</th>\n",
       "      <td>2633122112</td>\n",
       "      <td>{\"1527925734\": [0, 0, 2], \"1749860532\": [0, 1,...</td>\n",
       "      <td>1983</td>\n",
       "      <td>[0, 0, 3.0, 0, 2.0, 0, 0, 4.0, 92.0, 25.0, 1.0...</td>\n",
       "      <td>{\"121332964\": 55.08896947967504, \"33923547\": 3...</td>\n",
       "      <td>121332964.0</td>\n",
       "    </tr>\n",
       "    <tr>\n",
       "      <th>3</th>\n",
       "      <td>2633175297</td>\n",
       "      <td>{\"1159606036\": [43], \"1924744707\": [75], \"1994...</td>\n",
       "      <td>2003</td>\n",
       "      <td>[30.0, 29.0, 36.0, 29.0, 78.0, 8.0, 47.0, 75.0...</td>\n",
       "      <td>{\"121332964\": 2.3217493112947656, \"192562407\":...</td>\n",
       "      <td>185592680.0</td>\n",
       "    </tr>\n",
       "    <tr>\n",
       "      <th>4</th>\n",
       "      <td>2633712990</td>\n",
       "      <td>{\"1822742569\": [0, 0, 7], \"1847239135\": [113],...</td>\n",
       "      <td>2010</td>\n",
       "      <td>[14.0, 113.0, 0, 3.0, 0, 0, 0, 1.0, 7.0, 8.0, ...</td>\n",
       "      <td>{\"15744967\": 0.40454545454545465, \"71924100\": ...</td>\n",
       "      <td>71924100.0</td>\n",
       "    </tr>\n",
       "  </tbody>\n",
       "</table>\n",
       "</div>"
      ],
      "text/plain": [
       "    author_id                                               cits  birth_year  \\\n",
       "0  2632943989  {\"1822016271\": [0, 125, 29, 43, 70], \"20549333...        1981   \n",
       "1  2632944995  {\"2463522222\": [42], \"2616990729\": [15, 94], \"...        1990   \n",
       "2  2633122112  {\"1527925734\": [0, 0, 2], \"1749860532\": [0, 1,...        1983   \n",
       "3  2633175297  {\"1159606036\": [43], \"1924744707\": [75], \"1994...        2003   \n",
       "4  2633712990  {\"1822742569\": [0, 0, 7], \"1847239135\": [113],...        2010   \n",
       "\n",
       "                                      citation_count  \\\n",
       "0  [0, 0, 0, 0, 0, 0, 11.0, 19.0, 125.0, 15.0, 13...   \n",
       "1  [42.0, 15.0, 29.0, 9.0, 94.0, 20.0, 0, 5.0, 3....   \n",
       "2  [0, 0, 3.0, 0, 2.0, 0, 0, 4.0, 92.0, 25.0, 1.0...   \n",
       "3  [30.0, 29.0, 36.0, 29.0, 78.0, 8.0, 47.0, 75.0...   \n",
       "4  [14.0, 113.0, 0, 3.0, 0, 0, 0, 1.0, 7.0, 8.0, ...   \n",
       "\n",
       "                                             weights          fos  \n",
       "0  {\"144024400\": 0.13181818181818183, \"17744445\":...   71924100.0  \n",
       "1  {\"138885662\": 0.8166666666666667, \"142362112\":...   71924100.0  \n",
       "2  {\"121332964\": 55.08896947967504, \"33923547\": 3...  121332964.0  \n",
       "3  {\"121332964\": 2.3217493112947656, \"192562407\":...  185592680.0  \n",
       "4  {\"15744967\": 0.40454545454545465, \"71924100\": ...   71924100.0  "
      ]
     },
     "execution_count": 4,
     "metadata": {},
     "output_type": "execute_result"
    }
   ],
   "source": [
    "from s4_authors_stats import _step_1\n",
    "\n",
    "authors_complete = dd.read_csv('data/AuthorsMetrics_split/authors_metrics_full_10a_%d' % SUFFIX, sep='\\t', header=None)\n",
    "authors_complete.columns = ['author_id', 'cits', 'birth_year', 'citation_count', 'weights', 'fos']\n",
    "\n",
    "def sum_cits(row):\n",
    "    c = sum(json.loads(row['citation_count']))\n",
    "    return c\n",
    "\n",
    "authors_complete = authors_complete[authors_complete.apply(sum_cits, meta=(int), axis=1) > 0]\n",
    "authors_complete.head()\n",
    "# print(authors_complete.head())"
   ]
  },
  {
   "cell_type": "code",
   "execution_count": null,
   "metadata": {},
   "outputs": [],
   "source": [
    "H, C, P, WS, WP, CL, Y, CH, FOS = s4.step_1(authors_complete)"
   ]
  },
  {
   "cell_type": "code",
   "execution_count": 29,
   "metadata": {},
   "outputs": [
    {
     "data": {
      "text/plain": [
       "2630275"
      ]
     },
     "execution_count": 29,
     "metadata": {},
     "output_type": "execute_result"
    }
   ],
   "source": [
    "len(authors_complete['author_id'].unique())"
   ]
  },
  {
   "cell_type": "code",
   "execution_count": 30,
   "metadata": {},
   "outputs": [
    {
     "data": {
      "text/plain": [
       "744352964"
      ]
     },
     "execution_count": 30,
     "metadata": {},
     "output_type": "execute_result"
    }
   ],
   "source": [
    "open('results/hindex_10a_full_%d.json' % SUFFIX,'w').write(json.dumps(H))\n",
    "open('results/cits_10a_full_%d.json' % SUFFIX,'w').write(json.dumps(C))\n",
    "open('results/papers_10a_full_%d.json' % SUFFIX,'w').write(json.dumps(P))\n",
    "open('results/ws_10a_full_%d.json' % SUFFIX,'w').write(json.dumps(WS))\n",
    "open('results/wp_10a_full_%d.json' % SUFFIX,'w').write(json.dumps(WP))\n",
    "open('results/citlist_10a_full_%d.json' % SUFFIX,'w').write(json.dumps(CL))\n",
    "open('results/birth_10a_full_%d.json' % SUFFIX, 'w').write(json.dumps(Y))\n",
    "open('results/fos_10a_full_%d.json' % SUFFIX,'w').write(json.dumps(FOS))\n",
    "open('results/ch_10a_full_%d.json' % SUFFIX, 'w').write(json.dumps(CH))"
   ]
  },
  {
   "cell_type": "markdown",
   "metadata": {},
   "source": [
    "### Some statistics..."
   ]
  },
  {
   "cell_type": "code",
   "execution_count": 31,
   "metadata": {},
   "outputs": [],
   "source": []
  },
  {
   "cell_type": "code",
   "execution_count": 7,
   "metadata": {},
   "outputs": [
    {
     "name": "stdout",
     "output_type": "stream",
     "text": [
      "    author_id          fos  n_authors\n",
      "0  2632943989   71924100.0         27\n",
      "1  2632944995   71924100.0         10\n",
      "2  2633122112  121332964.0        100\n",
      "3  2633175297  185592680.0         38\n",
      "4  2633712990   71924100.0         53\n"
     ]
    },
    {
     "data": {
      "text/plain": [
       "['/mnt/e/Ana/author_dep/colabs_per_author_results.csv']"
      ]
     },
     "execution_count": 7,
     "metadata": {},
     "output_type": "execute_result"
    }
   ],
   "source": [
    "def cit_count(data):\n",
    "    return data.apply(lambda x: x.cits.count('['), meta=(int), axis=1)\n",
    "    \n",
    "colabs_per_author = authors_complete.assign(n_authors=cit_count)[['author_id', 'fos', 'n_authors']]\n",
    "\n",
    "print(colabs_per_author.head())\n",
    "\n",
    "results = colabs_per_author.groupby('fos')['n_authors'].apply(list, meta=('n_authors_per_fos', object))"
   ]
  },
  {
   "cell_type": "code",
   "execution_count": 40,
   "metadata": {},
   "outputs": [
    {
     "name": "stdout",
     "output_type": "stream",
     "text": [
      "    Unnamed: 0                                  n_authors_per_fos\n",
      "0   71924100.0  [57, 66, 172, 232, 28, 74, 96, 135, 166, 116, ...\n",
      "1  144133560.0  [69, 40, 41, 66, 40, 50, 19, 51, 3, 40, 33, 10...\n",
      "2  185592680.0  [141, 169, 71, 101, 11, 53, 43, 118, 30, 71, 3...\n",
      "3  138885662.0  [15, 23, 48, 124, 32, 30, 5, 2, 8, 9, 5, 5, 18...\n",
      "4   41008148.0  [74, 25, 22, 5, 76, 20, 122, 44, 112, 67, 13, ...\n",
      "history 22.406 27.388\n",
      "art 26.496 36.187\n",
      "philosophy 21.068 26.452\n",
      "sociology 22.177 26.208\n",
      "political science 24.719 29.772\n",
      "population 34.081 40.590\n",
      "economics 30.021 36.258\n",
      "mathematics 34.169 42.648\n",
      "business 29.660 35.099\n",
      "geology 76.280 89.422\n",
      "psychology 43.658 53.727\n",
      "geography 56.792 65.887\n",
      "engineering 46.300 57.010\n",
      "computer science 47.405 58.816\n",
      "environmental science 58.489 68.571\n",
      "physics 68.416 84.319\n",
      "medicine 91.420 112.763\n",
      "biology 71.278 87.521\n",
      "chemistry 63.759 80.599\n",
      "materials science 63.823 79.731\n"
     ]
    },
    {
     "data": {
      "image/png": "[encoded data removed]",
      "text/plain": [
       "<Figure size 864x864 with 20 Axes>"
      ]
     },
     "metadata": {
      "needs_background": "light"
     },
     "output_type": "display_data"
    }
   ],
   "source": [
    "fos_sorted = [95457728.0, 142362112.0, 138885662.0, 144024400.0, 17744445.0, 2908647359.0, \n",
    "              162324750.0, 33923547.0, 144133560.0, 127313418.0, 15744967.0, 205649164.0,\n",
    "              127413603.0, 41008148.0, 39432304.0, 121332964.0, 71924100.0, 86803240.0, 185592680.0, 192562407.0]\n",
    "results = pd.read_csv('colabs_per_author_results.csv', sep='\\t')\n",
    "print(results.head())\n",
    "fig,axes = plt.subplots(figsize=(12, 12), nrows=4, ncols=5)\n",
    "i = 0\n",
    "axes = axes.ravel()\n",
    "\n",
    "for f in fos_sorted:\n",
    "\n",
    "    for idx, row in results.iterrows():\n",
    "        field = row[0]\n",
    "        if f == field:\n",
    "            fos_dist = json.loads(row['n_authors_per_fos'])\n",
    "            axes[i].hist(fos_dist, range=(0, 1000), color='gray')\n",
    "            field_name = fos_infos[fos_infos['field_id'] == field].iloc[0, -1]\n",
    "            fos_dist = np.asarray(fos_dist)\n",
    "            p95 = np.percentile(fos_dist, 95)\n",
    "            M = np.mean(fos_dist[fos_dist < p95])\n",
    "            print(\"%s %.3f %.3f\" % (field_name, M, np.mean(fos_dist)))\n",
    "            if i % 5 == 0:\n",
    "                axes[i].set_ylabel('number of authors', fontsize=12)\n",
    "            if i >= 15:\n",
    "                axes[i].set_xlabel('number of collaborators', fontsize=12)\n",
    "            \n",
    "            axes[i].set_yscale('log')\n",
    "            axes[i].set_title(\"%s \\n(mean = %.3f)\" % (field_name, M), fontsize=14)\n",
    "            i += 1\n",
    "    \n",
    "plt.tight_layout()\n",
    "plt.savefig('number_of_colabs_per_fos_%d_percentile95.pdf' % SUFFIX)"
   ]
  },
  {
   "cell_type": "code",
   "execution_count": 33,
   "metadata": {},
   "outputs": [
    {
     "name": "stdout",
     "output_type": "stream",
     "text": [
      "1960 & 1.44\\% & 550\n",
      "1970 & 0.94\\% & 1154\n",
      "1980 & 0.64\\% & 2120\n",
      "1990 & 0.40\\% & 3019\n",
      "2000 & 0.21\\% & 3110\n",
      "2010 & 0.06\\% & 1569\n",
      "2020 & 0.02\\% & 627\n"
     ]
    }
   ],
   "source": [
    "for current_year in [1960, 1970, 1980, 1990, 2000, 2010, 2020]:\n",
    "    colabs_cits = json.load(open('results/citlist_10a_full_%d.json' % current_year))\n",
    "    count_no_colabs = 0\n",
    "    for temp in colabs_cits:\n",
    "        if len(temp) == 0:\n",
    "            count_no_colabs += 1\n",
    "    print(\"%d & %.2f\\%% & %d\" % (current_year, 100*count_no_colabs/len(colabs_cits), count_no_colabs))"
   ]
  },
  {
   "cell_type": "code",
   "execution_count": 9,
   "metadata": {},
   "outputs": [
    {
     "name": "stdout",
     "output_type": "stream",
     "text": [
      "[########################################] | 100% Completed | 53.9s\n",
      "fos\n",
      "15744967       46526\n",
      "17744445       13171\n",
      "33923547       29595\n",
      "39432304         977\n",
      "41008148      101553\n",
      "71924100      352031\n",
      "86803240      300340\n",
      "95457728        1573\n",
      "121332964      86921\n",
      "127313418      25085\n",
      "127413603      66732\n",
      "138885662       4048\n",
      "142362112       2255\n",
      "144024400       5163\n",
      "144133560       5338\n",
      "162324750      25625\n",
      "185592680     158762\n",
      "192562407      60771\n",
      "205649164       2677\n",
      "2908647359       274\n",
      "Name: author_id, dtype: int64\n"
     ]
    }
   ],
   "source": [
    "from dask.diagnostics import ProgressBar\n",
    "with ProgressBar():\n",
    "    authors_per_fos = authors_complete.groupby('fos')['author_id'].count().compute()\n",
    "    print(authors_per_fos)"
   ]
  },
  {
   "cell_type": "code",
   "execution_count": null,
   "metadata": {},
   "outputs": [
    {
     "data": {
      "application/vnd.jupyter.widget-view+json": {
       "model_id": "d752c5828c154b0db4e56d51bd70be88",
       "version_major": 2,
       "version_minor": 0
      },
      "text/plain": [
       "HBox(children=(FloatProgress(value=0.0, max=722.0), HTML(value='')))"
      ]
     },
     "metadata": {},
     "output_type": "display_data"
    }
   ],
   "source": [
    "files = glob.glob('data_temp/FOS_split/fields_papers_*.csv')\n",
    "\n",
    "def to_process_papers(file):\n",
    "    papers_fos_dict = defaultdict(lambda:set())\n",
    "    papers_per_fos = pd.read_csv(file, header=None)[[1, 6]]\n",
    "    papers_per_fos.columns = ['paper_id', 'parents_id']\n",
    "    papers_per_fos = papers_per_fos.dropna()\n",
    "    for idx,row in papers_per_fos.iterrows():\n",
    "        for fos in row['parents_id'].split(','):\n",
    "            papers_fos_dict[fos].add(row['paper_id'])\n",
    "            \n",
    "    return papers_fos_dict\n",
    "from multiprocessing import Pool\n",
    "\n",
    "output_maps = process_map(to_process_papers, files, max_workers=16) "
   ]
  },
  {
   "cell_type": "code",
   "execution_count": null,
   "metadata": {},
   "outputs": [],
   "source": []
  }
 ],
 "metadata": {
  "kernelspec": {
   "display_name": "Python 3",
   "language": "python",
   "name": "python3"
  },
  "language_info": {
   "codemirror_mode": {
    "name": "ipython",
    "version": 3
   },
   "file_extension": ".py",
   "mimetype": "text/x-python",
   "name": "python",
   "nbconvert_exporter": "python",
   "pygments_lexer": "ipython3",
   "version": "3.8.3"
  }
 },
 "nbformat": 4,
 "nbformat_minor": 4
}
