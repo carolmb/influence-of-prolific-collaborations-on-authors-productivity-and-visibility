{
 "cells": [
  {
   "cell_type": "code",
   "execution_count": 1,
   "metadata": {},
   "outputs": [],
   "source": [
    "import pandas\n",
    "import numpy as np\n",
    "import dask.dataframe as dd\n",
    "\n",
    "import tqdm\n",
    "import json\n",
    "from collections import defaultdict\n",
    "from dask.diagnostics import ProgressBar\n"
   ]
  },
  {
   "cell_type": "code",
   "execution_count": 2,
   "metadata": {},
   "outputs": [],
   "source": [
    "file = 'data/paper_complete_infos.csv'"
   ]
  },
  {
   "cell_type": "code",
   "execution_count": 3,
   "metadata": {},
   "outputs": [
    {
     "data": {
      "text/html": [
       "<div>\n",
       "<style scoped>\n",
       "    .dataframe tbody tr th:only-of-type {\n",
       "        vertical-align: middle;\n",
       "    }\n",
       "\n",
       "    .dataframe tbody tr th {\n",
       "        vertical-align: top;\n",
       "    }\n",
       "\n",
       "    .dataframe thead th {\n",
       "        text-align: right;\n",
       "    }\n",
       "</style>\n",
       "<table border=\"1\" class=\"dataframe\">\n",
       "  <thead>\n",
       "    <tr style=\"text-align: right;\">\n",
       "      <th></th>\n",
       "      <th>paper_id</th>\n",
       "      <th>doi</th>\n",
       "      <th>year</th>\n",
       "      <th>authors</th>\n",
       "      <th>cits</th>\n",
       "      <th>cits_detail</th>\n",
       "    </tr>\n",
       "  </thead>\n",
       "  <tbody>\n",
       "    <tr>\n",
       "      <th>0</th>\n",
       "      <td>9</td>\n",
       "      <td>NaN</td>\n",
       "      <td>2006.0</td>\n",
       "      <td>2632942543</td>\n",
       "      <td>NaN</td>\n",
       "      <td>NaN</td>\n",
       "    </tr>\n",
       "    <tr>\n",
       "      <th>1</th>\n",
       "      <td>15</td>\n",
       "      <td>10.1007/978-3-642-32197-9_8</td>\n",
       "      <td>2013.0</td>\n",
       "      <td>199142497,680395887</td>\n",
       "      <td>NaN</td>\n",
       "      <td>NaN</td>\n",
       "    </tr>\n",
       "    <tr>\n",
       "      <th>2</th>\n",
       "      <td>23</td>\n",
       "      <td>NaN</td>\n",
       "      <td>2012.0</td>\n",
       "      <td>1243978490,2582258949,2582736345</td>\n",
       "      <td>2.0</td>\n",
       "      <td>{\"2019\": 1, \"2020\": 1}</td>\n",
       "    </tr>\n",
       "    <tr>\n",
       "      <th>3</th>\n",
       "      <td>58</td>\n",
       "      <td>NaN</td>\n",
       "      <td>1973.0</td>\n",
       "      <td>2641488431,2693978806</td>\n",
       "      <td>NaN</td>\n",
       "      <td>NaN</td>\n",
       "    </tr>\n",
       "    <tr>\n",
       "      <th>4</th>\n",
       "      <td>79</td>\n",
       "      <td>NaN</td>\n",
       "      <td>2009.0</td>\n",
       "      <td>2662843304,2683440697</td>\n",
       "      <td>NaN</td>\n",
       "      <td>NaN</td>\n",
       "    </tr>\n",
       "  </tbody>\n",
       "</table>\n",
       "</div>"
      ],
      "text/plain": [
       "   paper_id                          doi    year  \\\n",
       "0         9                          NaN  2006.0   \n",
       "1        15  10.1007/978-3-642-32197-9_8  2013.0   \n",
       "2        23                          NaN  2012.0   \n",
       "3        58                          NaN  1973.0   \n",
       "4        79                          NaN  2009.0   \n",
       "\n",
       "                            authors  cits             cits_detail  \n",
       "0                        2632942543   NaN                     NaN  \n",
       "1               199142497,680395887   NaN                     NaN  \n",
       "2  1243978490,2582258949,2582736345   2.0  {\"2019\": 1, \"2020\": 1}  \n",
       "3             2641488431,2693978806   NaN                     NaN  \n",
       "4             2662843304,2683440697   NaN                     NaN  "
      ]
     },
     "execution_count": 3,
     "metadata": {},
     "output_type": "execute_result"
    }
   ],
   "source": [
    "d = dd.read_csv(file, sep='\\t', header=None, names=['paper_id', 'doi', 'year', 'authors', 'cits', 'cits_detail'], \n",
    "                dtype={'authors': str})\n",
    "d.head()"
   ]
  },
  {
   "cell_type": "code",
   "execution_count": 4,
   "metadata": {},
   "outputs": [],
   "source": [
    "d = d[d['year'] <= 2020]\n",
    "d = d[d['year'] >= 1950]\n",
    "d = d.dropna(subset=['year', 'authors'])"
   ]
  },
  {
   "cell_type": "code",
   "execution_count": 5,
   "metadata": {},
   "outputs": [
    {
     "name": "stdout",
     "output_type": "stream",
     "text": [
      "[########################################] | 100% Completed | 40min 38.9s\n"
     ]
    }
   ],
   "source": [
    "# def temp_test(bla):\n",
    "#     return bla.apply(lambda x: x.authors.count(',') + 1, meta=(int), axis=1)\n",
    "    \n",
    "# r = d.assign(n_authors=temp_test)\n",
    "\n",
    "# from dask.diagnostics import ProgressBar\n",
    "# with ProgressBar():\n",
    "#     r[['paper_id', 'n_authors']].to_csv('data/papers_number_of_authors', sep='\\t', header=None, index=False)"
   ]
  },
  {
   "cell_type": "code",
   "execution_count": 5,
   "metadata": {},
   "outputs": [
    {
     "data": {
      "text/html": [
       "<div>\n",
       "<style scoped>\n",
       "    .dataframe tbody tr th:only-of-type {\n",
       "        vertical-align: middle;\n",
       "    }\n",
       "\n",
       "    .dataframe tbody tr th {\n",
       "        vertical-align: top;\n",
       "    }\n",
       "\n",
       "    .dataframe thead th {\n",
       "        text-align: right;\n",
       "    }\n",
       "</style>\n",
       "<table border=\"1\" class=\"dataframe\">\n",
       "  <thead>\n",
       "    <tr style=\"text-align: right;\">\n",
       "      <th></th>\n",
       "      <th>number_of_authors</th>\n",
       "    </tr>\n",
       "    <tr>\n",
       "      <th>paper_id</th>\n",
       "      <th></th>\n",
       "    </tr>\n",
       "  </thead>\n",
       "  <tbody>\n",
       "    <tr>\n",
       "      <th>9</th>\n",
       "      <td>1</td>\n",
       "    </tr>\n",
       "    <tr>\n",
       "      <th>15</th>\n",
       "      <td>2</td>\n",
       "    </tr>\n",
       "    <tr>\n",
       "      <th>23</th>\n",
       "      <td>3</td>\n",
       "    </tr>\n",
       "    <tr>\n",
       "      <th>58</th>\n",
       "      <td>2</td>\n",
       "    </tr>\n",
       "    <tr>\n",
       "      <th>79</th>\n",
       "      <td>2</td>\n",
       "    </tr>\n",
       "  </tbody>\n",
       "</table>\n",
       "</div>"
      ],
      "text/plain": [
       "          number_of_authors\n",
       "paper_id                   \n",
       "9                         1\n",
       "15                        2\n",
       "23                        3\n",
       "58                        2\n",
       "79                        2"
      ]
     },
     "execution_count": 5,
     "metadata": {},
     "output_type": "execute_result"
    }
   ],
   "source": [
    "papers_number_of_authors = dd.read_csv('data/papers_number_of_authors/*', sep='\\t', header=None)\n",
    "papers_number_of_authors.columns = ['paper_id', 'number_of_authors']\n",
    "papers_number_of_authors = papers_number_of_authors.set_index('paper_id', sorted=True)\n",
    "papers_number_of_authors.head()"
   ]
  },
  {
   "cell_type": "code",
   "execution_count": 6,
   "metadata": {},
   "outputs": [
    {
     "data": {
      "text/html": [
       "<div>\n",
       "<style scoped>\n",
       "    .dataframe tbody tr th:only-of-type {\n",
       "        vertical-align: middle;\n",
       "    }\n",
       "\n",
       "    .dataframe tbody tr th {\n",
       "        vertical-align: top;\n",
       "    }\n",
       "\n",
       "    .dataframe thead th {\n",
       "        text-align: right;\n",
       "    }\n",
       "</style>\n",
       "<table border=\"1\" class=\"dataframe\">\n",
       "  <thead>\n",
       "    <tr style=\"text-align: right;\">\n",
       "      <th></th>\n",
       "      <th>paper_id</th>\n",
       "      <th>parent_id</th>\n",
       "    </tr>\n",
       "  </thead>\n",
       "  <tbody>\n",
       "    <tr>\n",
       "      <th>0</th>\n",
       "      <td>15</td>\n",
       "      <td>{\"138885662\": 0.25, \"142362112\": 0.25, \"177444...</td>\n",
       "    </tr>\n",
       "    <tr>\n",
       "      <th>1</th>\n",
       "      <td>23</td>\n",
       "      <td>{\"71924100\": 0.8, \"86803240\": 0.15, \"185592680...</td>\n",
       "    </tr>\n",
       "    <tr>\n",
       "      <th>2</th>\n",
       "      <td>58</td>\n",
       "      <td>{\"33923547\": 0.2, \"121332964\": 0.6000000000000...</td>\n",
       "    </tr>\n",
       "    <tr>\n",
       "      <th>3</th>\n",
       "      <td>79</td>\n",
       "      <td>{\"86803240\": 0.4, \"185592680\": 0.1, \"71924100\"...</td>\n",
       "    </tr>\n",
       "    <tr>\n",
       "      <th>4</th>\n",
       "      <td>108</td>\n",
       "      <td>{\"138885662\": 0.525, \"142362112\": 0.3666666666...</td>\n",
       "    </tr>\n",
       "  </tbody>\n",
       "</table>\n",
       "</div>"
      ],
      "text/plain": [
       "   paper_id                                          parent_id\n",
       "0        15  {\"138885662\": 0.25, \"142362112\": 0.25, \"177444...\n",
       "1        23  {\"71924100\": 0.8, \"86803240\": 0.15, \"185592680...\n",
       "2        58  {\"33923547\": 0.2, \"121332964\": 0.6000000000000...\n",
       "3        79  {\"86803240\": 0.4, \"185592680\": 0.1, \"71924100\"...\n",
       "4       108  {\"138885662\": 0.525, \"142362112\": 0.3666666666..."
      ]
     },
     "execution_count": 6,
     "metadata": {},
     "output_type": "execute_result"
    }
   ],
   "source": [
    "fos_papers = dd.read_csv('data/PaperFOS_split/paper_fos_dict*', sep='\\t', header=None)\n",
    "fos_papers.columns = ['paper_id', 'parent_id']\n",
    "fos_papers = fos_papers.dropna(subset=['parent_id'])\n",
    "fos_papers.head()"
   ]
  },
  {
   "cell_type": "code",
   "execution_count": 7,
   "metadata": {},
   "outputs": [
    {
     "name": "stdout",
     "output_type": "stream",
     "text": [
      "     paper_id  number_of_authors  \\\n",
      "0  2796953996                  1   \n",
      "1  2796963714                  1   \n",
      "2  2796964691                  2   \n",
      "3  2796964893                  2   \n",
      "4  2796965166                  1   \n",
      "\n",
      "                                           parent_id  \n",
      "0  {\"138885662\": 0.25, \"142362112\": 0.58333333333...  \n",
      "1                                  {\"71924100\": 1.0}  \n",
      "2  {\"17744445\": 0.14285714285714285, \"162324750\":...  \n",
      "3  {\"127413603\": 0.1111111111111111, \"41008148\": ...  \n",
      "4  {\"17744445\": 0.5, \"162324750\": 0.25, \"14402440...  \n"
     ]
    }
   ],
   "source": [
    "papers_num_authors = defaultdict(lambda:[])\n",
    "\n",
    "with ProgressBar():\n",
    "    temp = papers_number_of_authors.merge(fos_papers, on='paper_id')\n",
    "print(temp.head())"
   ]
  },
  {
   "cell_type": "code",
   "execution_count": null,
   "metadata": {},
   "outputs": [],
   "source": [
    "temp.to_csv('paper_fields_number_of_authors', sep='\\t', single_file=True)"
   ]
  },
  {
   "cell_type": "code",
   "execution_count": 2,
   "metadata": {},
   "outputs": [],
   "source": [
    "SUFFIX = 2020\n",
    "C1 = json.load(open('results/cits_10a_full_%d.json' % SUFFIX))\n",
    "P1 = json.load(open('results/papers_10a_full_%d.json' % SUFFIX))\n",
    "C2 = json.load(open('results/cits_full_%d.json' % SUFFIX))\n",
    "P2 = json.load(open('results/papers_full_%d.json' % SUFFIX))"
   ]
  },
  {
   "cell_type": "code",
   "execution_count": 3,
   "metadata": {},
   "outputs": [
    {
     "data": {
      "text/plain": [
       "2630275"
      ]
     },
     "execution_count": 3,
     "metadata": {},
     "output_type": "execute_result"
    }
   ],
   "source": [
    "len(C1)"
   ]
  },
  {
   "cell_type": "code",
   "execution_count": 4,
   "metadata": {
    "collapsed": true,
    "jupyter": {
     "outputs_hidden": true
    }
   },
   "outputs": [
    {
     "data": {
      "text/plain": [
       "1289417"
      ]
     },
     "execution_count": 4,
     "metadata": {},
     "output_type": "execute_result"
    }
   ],
   "source": [
    "len(C2)"
   ]
  },
  {
   "cell_type": "code",
   "execution_count": 13,
   "metadata": {},
   "outputs": [
    {
     "data": {
      "text/html": [
       "<div>\n",
       "<style scoped>\n",
       "    .dataframe tbody tr th:only-of-type {\n",
       "        vertical-align: middle;\n",
       "    }\n",
       "\n",
       "    .dataframe tbody tr th {\n",
       "        vertical-align: top;\n",
       "    }\n",
       "\n",
       "    .dataframe thead th {\n",
       "        text-align: right;\n",
       "    }\n",
       "</style>\n",
       "<table border=\"1\" class=\"dataframe\">\n",
       "  <thead>\n",
       "    <tr style=\"text-align: right;\">\n",
       "      <th></th>\n",
       "      <th>Unnamed: 0</th>\n",
       "      <th>paper_id</th>\n",
       "      <th>number_of_authors</th>\n",
       "      <th>parent_id</th>\n",
       "    </tr>\n",
       "  </thead>\n",
       "  <tbody>\n",
       "    <tr>\n",
       "      <th>0</th>\n",
       "      <td>0</td>\n",
       "      <td>2793762076</td>\n",
       "      <td>3</td>\n",
       "      <td>{\"41008148\": 0.5999999999999999, \"127413603\": ...</td>\n",
       "    </tr>\n",
       "    <tr>\n",
       "      <th>1</th>\n",
       "      <td>1</td>\n",
       "      <td>2793769416</td>\n",
       "      <td>3</td>\n",
       "      <td>{\"71924100\": 0.8095238095238095, \"86803240\": 0...</td>\n",
       "    </tr>\n",
       "    <tr>\n",
       "      <th>2</th>\n",
       "      <td>2</td>\n",
       "      <td>2793771443</td>\n",
       "      <td>2</td>\n",
       "      <td>{\"121332964\": 0.5, \"86803240\": 0.25, \"18559268...</td>\n",
       "    </tr>\n",
       "    <tr>\n",
       "      <th>3</th>\n",
       "      <td>3</td>\n",
       "      <td>2793775085</td>\n",
       "      <td>4</td>\n",
       "      <td>{\"33923547\": 0.9083333333333334, \"127413603\": ...</td>\n",
       "    </tr>\n",
       "    <tr>\n",
       "      <th>4</th>\n",
       "      <td>4</td>\n",
       "      <td>2793776991</td>\n",
       "      <td>1</td>\n",
       "      <td>{\"138885662\": 0.16999999999999998, \"86803240\":...</td>\n",
       "    </tr>\n",
       "  </tbody>\n",
       "</table>\n",
       "</div>"
      ],
      "text/plain": [
       "   Unnamed: 0    paper_id  number_of_authors  \\\n",
       "0           0  2793762076                  3   \n",
       "1           1  2793769416                  3   \n",
       "2           2  2793771443                  2   \n",
       "3           3  2793775085                  4   \n",
       "4           4  2793776991                  1   \n",
       "\n",
       "                                           parent_id  \n",
       "0  {\"41008148\": 0.5999999999999999, \"127413603\": ...  \n",
       "1  {\"71924100\": 0.8095238095238095, \"86803240\": 0...  \n",
       "2  {\"121332964\": 0.5, \"86803240\": 0.25, \"18559268...  \n",
       "3  {\"33923547\": 0.9083333333333334, \"127413603\": ...  \n",
       "4  {\"138885662\": 0.16999999999999998, \"86803240\":...  "
      ]
     },
     "execution_count": 13,
     "metadata": {},
     "output_type": "execute_result"
    }
   ],
   "source": [
    "temp = dd.read_csv('paper_fields_number_of_authors', sep='\\t')\n",
    "temp.head()"
   ]
  },
  {
   "cell_type": "code",
   "execution_count": null,
   "metadata": {},
   "outputs": [],
   "source": [
    "papers_fos_authors = defaultdict(lambda:defaultdict(lambda:0))\n",
    "for idx, row in temp.iterrows():\n",
    "    fos = json.loads(row['parent_id'])\n",
    "    for f,w in fos.items():\n",
    "        papers_fos_authors[f][row['number_of_authors']] += 1"
   ]
  },
  {
   "cell_type": "code",
   "execution_count": null,
   "metadata": {},
   "outputs": [],
   "source": []
  }
 ],
 "metadata": {
  "kernelspec": {
   "display_name": "Python 3",
   "language": "python",
   "name": "python3"
  },
  "language_info": {
   "codemirror_mode": {
    "name": "ipython",
    "version": 3
   },
   "file_extension": ".py",
   "mimetype": "text/x-python",
   "name": "python",
   "nbconvert_exporter": "python",
   "pygments_lexer": "ipython3",
   "version": "3.8.3"
  }
 },
 "nbformat": 4,
 "nbformat_minor": 4
}
