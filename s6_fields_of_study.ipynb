{
 "cells": [
  {
   "cell_type": "code",
   "execution_count": 1,
   "metadata": {},
   "outputs": [
    {
     "name": "stdout",
     "output_type": "stream",
     "text": [
      "Requirement already satisfied: cairocffi in /home/acmbrito/miniconda3/lib/python3.8/site-packages (1.2.0)\n",
      "Requirement already satisfied: cffi>=1.1.0 in /home/acmbrito/miniconda3/lib/python3.8/site-packages (from cairocffi) (1.14.0)\n",
      "Requirement already satisfied: pycparser in /home/acmbrito/miniconda3/lib/python3.8/site-packages (from cffi>=1.1.0->cairocffi) (2.20)\n"
     ]
    }
   ],
   "source": [
    "!pip install cairocffi\n",
    "import cairocffi\n",
    "import pandas as pd\n",
    "import dask\n",
    "from dask import dataframe as dd\n",
    "import igraph as ig\n",
    "import numpy as np\n",
    "\n",
    "header = '/mnt/e/MAG/mag-2021-01-05/advanced/'\n",
    "fields_affil = 'data_temp/paper_fields_of_study_byPaperID.txt'\n",
    "fields_schema = 'FieldOfStudyChildren.txt'\n",
    "fields_infos = 'FieldsOfStudy.txt'"
   ]
  },
  {
   "cell_type": "code",
   "execution_count": 2,
   "metadata": {},
   "outputs": [
    {
     "name": "stdout",
     "output_type": "stream",
     "text": [
      "   paper_id   field_id     score\n",
      "0        15   15708023  0.341603\n",
      "1        15   17744445  0.314704\n",
      "2        15   86532276  0.389657\n",
      "3        23  141071460  0.433938\n",
      "4        23  177713679  0.433339\n",
      "   field_id  field_child_id\n",
      "0      4250       139676723\n",
      "1     12843         8105449\n",
      "2     12843        71383303\n",
      "3     12843       105805003\n",
      "4     12843       112019140\n",
      "   field_id   rank          normalized_name\n",
      "0    417682  16758                night air\n",
      "1   1443462  15557              immobiliser\n",
      "2   1576492  13013            matrix pencil\n",
      "3   2657588  13530   combinatorial topology\n",
      "4   3079626   8569  quantum electrodynamics\n"
     ]
    }
   ],
   "source": [
    "fields_affil_dd = dd.read_csv(fields_affil, header=None, sep='\\t', names=['paper_id', 'field_id', 'score'])\n",
    "print(fields_affil_dd.head())\n",
    "\n",
    "fields_schema_dd = pd.read_csv(header+fields_schema, header=None, sep='\\t', names=['field_id', 'field_child_id'])\n",
    "print(fields_schema_dd.head())\n",
    "\n",
    "pairs = []\n",
    "for idx,row in fields_schema_dd.iterrows():\n",
    "    try:\n",
    "        pairs.append((str(row['field_child_id']), str(row['field_id'])))\n",
    "    except:\n",
    "        print(row)\n",
    "        \n",
    "fields_infos_dd = pd.read_csv(header+fields_infos, header=None, sep='\\t')[[0, 1, 2]]\n",
    "fields_infos_dd.columns = ['field_id', 'rank', 'normalized_name']\n",
    "print(fields_infos_dd.head())"
   ]
  },
  {
   "cell_type": "code",
   "execution_count": 5,
   "metadata": {},
   "outputs": [
    {
     "data": {
      "text/plain": [
       "1444277071"
      ]
     },
     "execution_count": 5,
     "metadata": {},
     "output_type": "execute_result"
    }
   ],
   "source": [
    "len(fields_affil_dd)"
   ]
  },
  {
   "cell_type": "code",
   "execution_count": 3,
   "metadata": {},
   "outputs": [],
   "source": [
    "nodes = set()\n",
    "for a,b in pairs:\n",
    "    nodes.add(a)\n",
    "    nodes.add(b)\n",
    "    \n",
    "fields_tree = ig.Graph(directed=True)\n",
    "fields_tree.add_vertices(len(nodes))\n",
    "fields_tree.vs['name'] = list(nodes)\n",
    "fields_tree.add_edges(pairs)"
   ]
  },
  {
   "cell_type": "code",
   "execution_count": 4,
   "metadata": {},
   "outputs": [
    {
     "name": "stdout",
     "output_type": "stream",
     "text": [
      "205\n",
      "[652, 849, 1063, 1274, 4938, 5875, 9359, 9671, 11378, 23757]\n"
     ]
    }
   ],
   "source": [
    "idxs_out0 = [i for i, d in enumerate(fields_tree.degree(mode=ig.OUT)) if d == 0]\n",
    "print(len(idxs_out0))\n",
    "parents = [int(fields_tree.vs[i]['name']) for i in idxs_out0]\n",
    "print(idxs_out0[:10])"
   ]
  },
  {
   "cell_type": "code",
   "execution_count": 6,
   "metadata": {},
   "outputs": [
    {
     "data": {
      "text/html": [
       "<div>\n",
       "<style scoped>\n",
       "    .dataframe tbody tr th:only-of-type {\n",
       "        vertical-align: middle;\n",
       "    }\n",
       "\n",
       "    .dataframe tbody tr th {\n",
       "        vertical-align: top;\n",
       "    }\n",
       "\n",
       "    .dataframe thead th {\n",
       "        text-align: right;\n",
       "    }\n",
       "</style>\n",
       "<table border=\"1\" class=\"dataframe\">\n",
       "  <thead>\n",
       "    <tr style=\"text-align: right;\">\n",
       "      <th></th>\n",
       "      <th>field_id</th>\n",
       "      <th>rank</th>\n",
       "      <th>normalized_name</th>\n",
       "    </tr>\n",
       "  </thead>\n",
       "  <tbody>\n",
       "    <tr>\n",
       "      <th>9084</th>\n",
       "      <td>154821213</td>\n",
       "      <td>11471</td>\n",
       "      <td>rationalization</td>\n",
       "    </tr>\n",
       "    <tr>\n",
       "      <th>12158</th>\n",
       "      <td>2775930363</td>\n",
       "      <td>16876</td>\n",
       "      <td>desmarestia viridis</td>\n",
       "    </tr>\n",
       "    <tr>\n",
       "      <th>15380</th>\n",
       "      <td>2778037673</td>\n",
       "      <td>11888</td>\n",
       "      <td>atlanta</td>\n",
       "    </tr>\n",
       "    <tr>\n",
       "      <th>18012</th>\n",
       "      <td>95457728</td>\n",
       "      <td>6708</td>\n",
       "      <td>history</td>\n",
       "    </tr>\n",
       "    <tr>\n",
       "      <th>22470</th>\n",
       "      <td>2909617936</td>\n",
       "      <td>14840</td>\n",
       "      <td>strix aluco</td>\n",
       "    </tr>\n",
       "    <tr>\n",
       "      <th>23915</th>\n",
       "      <td>127313418</td>\n",
       "      <td>5790</td>\n",
       "      <td>geology</td>\n",
       "    </tr>\n",
       "    <tr>\n",
       "      <th>30650</th>\n",
       "      <td>2781130464</td>\n",
       "      <td>11839</td>\n",
       "      <td>rana</td>\n",
       "    </tr>\n",
       "    <tr>\n",
       "      <th>38553</th>\n",
       "      <td>2988118254</td>\n",
       "      <td>12551</td>\n",
       "      <td>rating system</td>\n",
       "    </tr>\n",
       "    <tr>\n",
       "      <th>38628</th>\n",
       "      <td>2993098308</td>\n",
       "      <td>13762</td>\n",
       "      <td>black sea region</td>\n",
       "    </tr>\n",
       "    <tr>\n",
       "      <th>39488</th>\n",
       "      <td>2779376305</td>\n",
       "      <td>14808</td>\n",
       "      <td>codium fragile</td>\n",
       "    </tr>\n",
       "    <tr>\n",
       "      <th>42086</th>\n",
       "      <td>2776312873</td>\n",
       "      <td>15363</td>\n",
       "      <td>dendrobates</td>\n",
       "    </tr>\n",
       "    <tr>\n",
       "      <th>45151</th>\n",
       "      <td>2777510348</td>\n",
       "      <td>15856</td>\n",
       "      <td>pristimantis</td>\n",
       "    </tr>\n",
       "    <tr>\n",
       "      <th>48547</th>\n",
       "      <td>2781142044</td>\n",
       "      <td>15818</td>\n",
       "      <td>craugastoridae</td>\n",
       "    </tr>\n",
       "    <tr>\n",
       "      <th>48550</th>\n",
       "      <td>2781171960</td>\n",
       "      <td>13559</td>\n",
       "      <td>botryococcus braunii</td>\n",
       "    </tr>\n",
       "    <tr>\n",
       "      <th>49578</th>\n",
       "      <td>2910039004</td>\n",
       "      <td>17090</td>\n",
       "      <td>pyropia yezoensis</td>\n",
       "    </tr>\n",
       "  </tbody>\n",
       "</table>\n",
       "</div>"
      ],
      "text/plain": [
       "         field_id   rank       normalized_name\n",
       "9084    154821213  11471       rationalization\n",
       "12158  2775930363  16876   desmarestia viridis\n",
       "15380  2778037673  11888               atlanta\n",
       "18012    95457728   6708               history\n",
       "22470  2909617936  14840           strix aluco\n",
       "23915   127313418   5790               geology\n",
       "30650  2781130464  11839                  rana\n",
       "38553  2988118254  12551         rating system\n",
       "38628  2993098308  13762      black sea region\n",
       "39488  2779376305  14808        codium fragile\n",
       "42086  2776312873  15363           dendrobates\n",
       "45151  2777510348  15856          pristimantis\n",
       "48547  2781142044  15818        craugastoridae\n",
       "48550  2781171960  13559  botryococcus braunii\n",
       "49578  2910039004  17090     pyropia yezoensis"
      ]
     },
     "execution_count": 6,
     "metadata": {},
     "output_type": "execute_result"
    }
   ],
   "source": [
    "# print parents ids\n",
    "fields_infos_dd[fields_infos_dd['field_id'].isin(parents)].head(15)"
   ]
  },
  {
   "cell_type": "code",
   "execution_count": 7,
   "metadata": {},
   "outputs": [
    {
     "name": "stdout",
     "output_type": "stream",
     "text": [
      "igraph.Vertex(<igraph.Graph object at 0x7f93e0a3e040>, 1077, {'name': '2992112591'})\n",
      "([162324750, 162324750, 144133560, 162324750, 144133560, 162324750, 144133560, 162324750, 144133560, 162324750, 144133560, 162324750, 144133560, 162324750, 162324750], '162324750,162324750,144133560,162324750,144133560,162324750,144133560,162324750,144133560,162324750,144133560,162324750,144133560,162324750,162324750')\n"
     ]
    }
   ],
   "source": [
    "def path_to_parent(g, v):\n",
    "    idxs = g.neighbors(v, mode=ig.OUT)\n",
    "    if len(idxs) == 0:\n",
    "        return [g.vs[v]['name']]\n",
    "    else:\n",
    "        temp = []\n",
    "        for i in idxs:\n",
    "            temp += path_to_parent(g, i)\n",
    "        return temp\n",
    "\n",
    "def get_parents(g, v):\n",
    "    temp = path_to_parent(g, v)\n",
    "    parents_str = ','.join(temp)\n",
    "    parents = [int(x) for x in temp]\n",
    "    return parents, parents_str\n",
    "\n",
    "# o parent é parent dele mesmo\n",
    "print(fields_tree.vs[1077])\n",
    "print(get_parents(fields_tree, 1077))\n",
    "\n",
    "# output_file = open('data/fields_of_study.csv', 'w')\n",
    "# for child in range(fields_tree.vcount()):\n",
    "#     parents_ids, parents_id_str = get_parents(fields_tree, child)\n",
    "#     parents_names = fields_infos_dd[fields_infos_dd[0].isin(parents_ids)][2].values\n",
    "#     child_mag_id = fields_tree.vs[child]['name']\n",
    "#     child_name = fields_infos_dd[fields_infos_dd[0] == int(child_mag_id)][2].values\n",
    "#     output_file.write('%s\\t%s\\t%s\\t%s\\n' % (child_name[0], child_mag_id, ','.join(parents_names), parents_id_str))\n",
    "    \n",
    "# output_file.close()"
   ]
  },
  {
   "cell_type": "code",
   "execution_count": 8,
   "metadata": {},
   "outputs": [
    {
     "data": {
      "text/html": [
       "<div>\n",
       "<style scoped>\n",
       "    .dataframe tbody tr th:only-of-type {\n",
       "        vertical-align: middle;\n",
       "    }\n",
       "\n",
       "    .dataframe tbody tr th {\n",
       "        vertical-align: top;\n",
       "    }\n",
       "\n",
       "    .dataframe thead th {\n",
       "        text-align: right;\n",
       "    }\n",
       "</style>\n",
       "<table border=\"1\" class=\"dataframe\">\n",
       "  <thead>\n",
       "    <tr style=\"text-align: right;\">\n",
       "      <th></th>\n",
       "      <th>field_id</th>\n",
       "      <th>rank</th>\n",
       "      <th>normalized_name</th>\n",
       "    </tr>\n",
       "  </thead>\n",
       "  <tbody>\n",
       "    <tr>\n",
       "      <th>201</th>\n",
       "      <td>2775890984</td>\n",
       "      <td>21077</td>\n",
       "      <td>nesiostrymon</td>\n",
       "    </tr>\n",
       "    <tr>\n",
       "      <th>214</th>\n",
       "      <td>2776023202</td>\n",
       "      <td>20757</td>\n",
       "      <td>pacific elaenia</td>\n",
       "    </tr>\n",
       "    <tr>\n",
       "      <th>220</th>\n",
       "      <td>2776056147</td>\n",
       "      <td>22103</td>\n",
       "      <td>coelorinchus sheni</td>\n",
       "    </tr>\n",
       "    <tr>\n",
       "      <th>234</th>\n",
       "      <td>2776240375</td>\n",
       "      <td>21866</td>\n",
       "      <td>chicomurex turschi</td>\n",
       "    </tr>\n",
       "    <tr>\n",
       "      <th>253</th>\n",
       "      <td>2776450095</td>\n",
       "      <td>21505</td>\n",
       "      <td>dimetofrine</td>\n",
       "    </tr>\n",
       "    <tr>\n",
       "      <th>254</th>\n",
       "      <td>2776454293</td>\n",
       "      <td>21189</td>\n",
       "      <td>macropodus hongkongensis</td>\n",
       "    </tr>\n",
       "    <tr>\n",
       "      <th>258</th>\n",
       "      <td>2776471341</td>\n",
       "      <td>20470</td>\n",
       "      <td>cassipourea flanaganii</td>\n",
       "    </tr>\n",
       "    <tr>\n",
       "      <th>264</th>\n",
       "      <td>2776516433</td>\n",
       "      <td>21343</td>\n",
       "      <td>haplotrema vancouverense</td>\n",
       "    </tr>\n",
       "    <tr>\n",
       "      <th>278</th>\n",
       "      <td>2776615586</td>\n",
       "      <td>19973</td>\n",
       "      <td>pillotina calotermitidis</td>\n",
       "    </tr>\n",
       "    <tr>\n",
       "      <th>285</th>\n",
       "      <td>2776663788</td>\n",
       "      <td>20981</td>\n",
       "      <td>pachypodium saundersii</td>\n",
       "    </tr>\n",
       "  </tbody>\n",
       "</table>\n",
       "</div>"
      ],
      "text/plain": [
       "       field_id   rank           normalized_name\n",
       "201  2775890984  21077              nesiostrymon\n",
       "214  2776023202  20757           pacific elaenia\n",
       "220  2776056147  22103        coelorinchus sheni\n",
       "234  2776240375  21866        chicomurex turschi\n",
       "253  2776450095  21505               dimetofrine\n",
       "254  2776454293  21189  macropodus hongkongensis\n",
       "258  2776471341  20470    cassipourea flanaganii\n",
       "264  2776516433  21343  haplotrema vancouverense\n",
       "278  2776615586  19973  pillotina calotermitidis\n",
       "285  2776663788  20981    pachypodium saundersii"
      ]
     },
     "execution_count": 8,
     "metadata": {},
     "output_type": "execute_result"
    }
   ],
   "source": [
    "# áreas que não estão na hierarquia\n",
    "a = set([int(t) for t in fields_tree.vs['name']]) # quem está na hierarquia\n",
    "b = set(fields_infos_dd['field_id'].values) # todas as áreas listadas no MAG\n",
    "c = b-a\n",
    "fields_infos_dd[fields_infos_dd['field_id'].isin(c)].head(10)"
   ]
  },
  {
   "cell_type": "code",
   "execution_count": 9,
   "metadata": {},
   "outputs": [
    {
     "data": {
      "text/html": [
       "<div>\n",
       "<style scoped>\n",
       "    .dataframe tbody tr th:only-of-type {\n",
       "        vertical-align: middle;\n",
       "    }\n",
       "\n",
       "    .dataframe tbody tr th {\n",
       "        vertical-align: top;\n",
       "    }\n",
       "\n",
       "    .dataframe thead th {\n",
       "        text-align: right;\n",
       "    }\n",
       "</style>\n",
       "<table border=\"1\" class=\"dataframe\">\n",
       "  <thead>\n",
       "    <tr style=\"text-align: right;\">\n",
       "      <th></th>\n",
       "      <th>field</th>\n",
       "      <th>field_id</th>\n",
       "      <th>parents</th>\n",
       "      <th>parents_id</th>\n",
       "    </tr>\n",
       "  </thead>\n",
       "  <tbody>\n",
       "    <tr>\n",
       "      <th>0</th>\n",
       "      <td>susceptibility gene</td>\n",
       "      <td>3019216649</td>\n",
       "      <td>chemistry,biology</td>\n",
       "      <td>86803240,185592680,86803240,86803240</td>\n",
       "    </tr>\n",
       "    <tr>\n",
       "      <th>1</th>\n",
       "      <td>chondroitin sulfate proteoglycans</td>\n",
       "      <td>2911068277</td>\n",
       "      <td>chemistry,biology</td>\n",
       "      <td>86803240,185592680,86803240</td>\n",
       "    </tr>\n",
       "    <tr>\n",
       "      <th>2</th>\n",
       "      <td>signal width</td>\n",
       "      <td>2910870160</td>\n",
       "      <td>political science</td>\n",
       "      <td>17744445</td>\n",
       "    </tr>\n",
       "    <tr>\n",
       "      <th>3</th>\n",
       "      <td>temporin b</td>\n",
       "      <td>2910597275</td>\n",
       "      <td>chemistry,biology,medicine</td>\n",
       "      <td>86803240,185592680,86803240,86803240,86803240,...</td>\n",
       "    </tr>\n",
       "    <tr>\n",
       "      <th>4</th>\n",
       "      <td>sceloporus mucronatus</td>\n",
       "      <td>2910688544</td>\n",
       "      <td>chemistry,biology,medicine</td>\n",
       "      <td>86803240,71924100,86803240,86803240,86803240,1...</td>\n",
       "    </tr>\n",
       "  </tbody>\n",
       "</table>\n",
       "</div>"
      ],
      "text/plain": [
       "                               field    field_id                     parents  \\\n",
       "0                susceptibility gene  3019216649           chemistry,biology   \n",
       "1  chondroitin sulfate proteoglycans  2911068277           chemistry,biology   \n",
       "2                       signal width  2910870160           political science   \n",
       "3                         temporin b  2910597275  chemistry,biology,medicine   \n",
       "4              sceloporus mucronatus  2910688544  chemistry,biology,medicine   \n",
       "\n",
       "                                          parents_id  \n",
       "0               86803240,185592680,86803240,86803240  \n",
       "1                        86803240,185592680,86803240  \n",
       "2                                           17744445  \n",
       "3  86803240,185592680,86803240,86803240,86803240,...  \n",
       "4  86803240,71924100,86803240,86803240,86803240,1...  "
      ]
     },
     "execution_count": 9,
     "metadata": {},
     "output_type": "execute_result"
    }
   ],
   "source": [
    "fields_of_study = pd.read_csv('data/fields_of_study.csv', sep='\\t', header=None, names=['field', 'field_id', 'parents', 'parents_id'])\n",
    "fields_of_study.head()"
   ]
  },
  {
   "cell_type": "code",
   "execution_count": 10,
   "metadata": {},
   "outputs": [
    {
     "data": {
      "text/html": [
       "<div>\n",
       "<style scoped>\n",
       "    .dataframe tbody tr th:only-of-type {\n",
       "        vertical-align: middle;\n",
       "    }\n",
       "\n",
       "    .dataframe tbody tr th {\n",
       "        vertical-align: top;\n",
       "    }\n",
       "\n",
       "    .dataframe thead th {\n",
       "        text-align: right;\n",
       "    }\n",
       "</style>\n",
       "<table border=\"1\" class=\"dataframe\">\n",
       "  <thead>\n",
       "    <tr style=\"text-align: right;\">\n",
       "      <th></th>\n",
       "      <th>paper_id</th>\n",
       "      <th>field_id</th>\n",
       "      <th>score</th>\n",
       "      <th>field</th>\n",
       "      <th>parents</th>\n",
       "      <th>parents_id</th>\n",
       "    </tr>\n",
       "  </thead>\n",
       "  <tbody>\n",
       "    <tr>\n",
       "      <th>0</th>\n",
       "      <td>15</td>\n",
       "      <td>15708023</td>\n",
       "      <td>0.341603</td>\n",
       "      <td>humanities</td>\n",
       "      <td>philosophy,art</td>\n",
       "      <td>138885662,142362112</td>\n",
       "    </tr>\n",
       "    <tr>\n",
       "      <th>1</th>\n",
       "      <td>15</td>\n",
       "      <td>17744445</td>\n",
       "      <td>0.314704</td>\n",
       "      <td>political science</td>\n",
       "      <td>political science</td>\n",
       "      <td>17744445</td>\n",
       "    </tr>\n",
       "    <tr>\n",
       "      <th>2</th>\n",
       "      <td>15</td>\n",
       "      <td>86532276</td>\n",
       "      <td>0.389657</td>\n",
       "      <td>delegation</td>\n",
       "      <td>economics,philosophy,political science,art</td>\n",
       "      <td>162324750,138885662,142362112,17744445</td>\n",
       "    </tr>\n",
       "    <tr>\n",
       "      <th>3</th>\n",
       "      <td>23</td>\n",
       "      <td>141071460</td>\n",
       "      <td>0.433938</td>\n",
       "      <td>surgery</td>\n",
       "      <td>medicine</td>\n",
       "      <td>71924100</td>\n",
       "    </tr>\n",
       "    <tr>\n",
       "      <th>4</th>\n",
       "      <td>23</td>\n",
       "      <td>177713679</td>\n",
       "      <td>0.433339</td>\n",
       "      <td>intensive care medicine</td>\n",
       "      <td>medicine</td>\n",
       "      <td>71924100</td>\n",
       "    </tr>\n",
       "  </tbody>\n",
       "</table>\n",
       "</div>"
      ],
      "text/plain": [
       "   paper_id   field_id     score                    field  \\\n",
       "0        15   15708023  0.341603               humanities   \n",
       "1        15   17744445  0.314704        political science   \n",
       "2        15   86532276  0.389657               delegation   \n",
       "3        23  141071460  0.433938                  surgery   \n",
       "4        23  177713679  0.433339  intensive care medicine   \n",
       "\n",
       "                                      parents  \\\n",
       "0                              philosophy,art   \n",
       "1                           political science   \n",
       "2  economics,philosophy,political science,art   \n",
       "3                                    medicine   \n",
       "4                                    medicine   \n",
       "\n",
       "                               parents_id  \n",
       "0                     138885662,142362112  \n",
       "1                                17744445  \n",
       "2  162324750,138885662,142362112,17744445  \n",
       "3                                71924100  \n",
       "4                                71924100  "
      ]
     },
     "execution_count": 10,
     "metadata": {},
     "output_type": "execute_result"
    }
   ],
   "source": [
    "fields_affil_dd = fields_affil_dd.merge(fields_of_study, how='left', on='field_id')\n",
    "fields_affil_dd.head()"
   ]
  },
  {
   "cell_type": "code",
   "execution_count": null,
   "metadata": {},
   "outputs": [],
   "source": [
    "# fields_affil_dd.to_csv('data_temp/FOS_split/fields_papers_*.csv', header=None)"
   ]
  },
  {
   "cell_type": "code",
   "execution_count": 6,
   "metadata": {},
   "outputs": [
    {
     "name": "stdout",
     "output_type": "stream",
     "text": [
      "[  36534  502104 1382709 4534694 5113799 5478707 5975687 6583431 8051503\n",
      " 8650941]\n",
      "     author_id                                            weights\n",
      "20  2107573329  {\"185592680\": 0.39999999999999997, \"86803240\":...\n",
      "23  2660115790  {\"185592680\": 2.0161895743145744, \"86803240\": ...\n",
      "52     8051503  {\"86803240\": 0.5416666666666666, \"185592680\": ...\n",
      "97  2421386901           {\"71924100\": 0.8125, \"86803240\": 0.1875}\n",
      "98  2580168249           {\"71924100\": 0.8125, \"86803240\": 0.1875}\n",
      "     author_id                                            weights        fos\n",
      "20  2107573329  {\"185592680\": 0.39999999999999997, \"86803240\":...  185592680\n",
      "23  2660115790  {\"185592680\": 2.0161895743145744, \"86803240\": ...   86803240\n",
      "52     8051503  {\"86803240\": 0.5416666666666666, \"185592680\": ...   86803240\n",
      "97  2421386901           {\"71924100\": 0.8125, \"86803240\": 0.1875}   71924100\n",
      "98  2580168249           {\"71924100\": 0.8125, \"86803240\": 0.1875}   71924100\n"
     ]
    }
   ],
   "source": [
    "import json\n",
    "def top3_fos(row):\n",
    "    if row['weights'] != None:\n",
    "        w = json.loads(row['weights'])\n",
    "        if len(w) <= 0:\n",
    "            return ''\n",
    "        max_key = max(w, key=lambda k: w[k])\n",
    "        \n",
    "        return max_key\n",
    "    return ''\n",
    "    \n",
    "# 1960\n",
    "authors_fos = dd.read_csv('data/AuthorsFOS_split/authors_weights_year_1960*', sep='\\t', header=None, names=['author_id', 'weights'])\n",
    "valid_authors = pd.read_csv('data/valid_authors_full.txt', header=None, names=['author_id', 'papers', 'cits'])\n",
    "valid_authors = valid_authors['author_id'].apply(int)\n",
    "valid_authors = valid_authors.values\n",
    "print(valid_authors[:10])\n",
    "\n",
    "authors_fos_250k = authors_fos[authors_fos['author_id'].isin(valid_authors)]\n",
    "print(authors_fos_250k.head())\n",
    "authors_fos_250k['fos'] = authors_fos_250k.apply(top3_fos, axis=1, meta=('str'))\n",
    "print(authors_fos_250k.head())"
   ]
  },
  {
   "cell_type": "code",
   "execution_count": 16,
   "metadata": {},
   "outputs": [
    {
     "data": {
      "text/plain": [
       "243839"
      ]
     },
     "execution_count": 16,
     "metadata": {},
     "output_type": "execute_result"
    }
   ],
   "source": [
    "i"
   ]
  },
  {
   "cell_type": "code",
   "execution_count": null,
   "metadata": {},
   "outputs": [],
   "source": [
    "import tqdm\n",
    "fos = authors_fos_250k['fos']\n",
    "X = []\n",
    "for row in tqdm.tqdm(fos, total=len(valid_authors)):\n",
    "    X.append(row)"
   ]
  },
  {
   "cell_type": "code",
   "execution_count": null,
   "metadata": {},
   "outputs": [],
   "source": [
    "import numpy as np\n",
    "unique, count = np.unique(X, return_counts=True)\n",
    "for u,c in zip(unique, count):\n",
    "    print(u, c)"
   ]
  },
  {
   "cell_type": "code",
   "execution_count": null,
   "metadata": {},
   "outputs": [],
   "source": [
    "unique = [int(u) for u in unique]\n",
    "print(fields_infos_dd.head())\n",
    "unique_freq = fields_infos_dd[fields_infos_dd['field_id'].isin(unique)]\n",
    "unique_freq['count'] = unique_freq.apply(lambda row: count[ unique.index(row['field_id']) ], axis=1)\n",
    "print(unique_freq)"
   ]
  },
  {
   "cell_type": "code",
   "execution_count": 7,
   "metadata": {},
   "outputs": [
    {
     "name": "stdout",
     "output_type": "stream",
     "text": [
      "[########################################] | 100% Completed | 44min 56.3s\n"
     ]
    }
   ],
   "source": [
    "from dask.diagnostics import ProgressBar\n",
    "with ProgressBar():\n",
    "    authors_fos_250k.to_csv('data/valid_authors_1960_fos_full.csv', sep='\\t', header=None, index=None, single_file=True)"
   ]
  },
  {
   "cell_type": "code",
   "execution_count": null,
   "metadata": {},
   "outputs": [],
   "source": []
  }
 ],
 "metadata": {
  "kernelspec": {
   "display_name": "Python 3",
   "language": "python",
   "name": "python3"
  },
  "language_info": {
   "codemirror_mode": {
    "name": "ipython",
    "version": 3
   },
   "file_extension": ".py",
   "mimetype": "text/x-python",
   "name": "python",
   "nbconvert_exporter": "python",
   "pygments_lexer": "ipython3",
   "version": "3.8.3"
  }
 },
 "nbformat": 4,
 "nbformat_minor": 4
}
