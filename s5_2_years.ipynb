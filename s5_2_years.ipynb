{
 "cells": [
  {
   "cell_type": "code",
   "execution_count": 22,
   "metadata": {},
   "outputs": [],
   "source": [
    "import numpy as np\n",
    "import json\n",
    "from collections import defaultdict\n",
    "import pandas as pd\n",
    "import glob"
   ]
  },
  {
   "cell_type": "code",
   "execution_count": 23,
   "metadata": {},
   "outputs": [],
   "source": [
    "def join_weights(rows):\n",
    "    W = defaultdict(lambda:0, json.loads(rows.at(0)['weights']))\n",
    "    for row in rows[1:]:\n",
    "        r = json.loads(row['weights'])\n",
    "        for k,v in r.items():\n",
    "            W[k] += v\n",
    "    return json.dumps(W)\n",
    "    \n",
    "\n",
    "def _step_7(file):\n",
    "    chunk = pd.read_csv(file, sep='\\t', header=None, names=['author_id', 'weights']) # _complete_short_\n",
    "    out = open('data/AuthorsFOS_split/authors_weights_year_2020_weights_process_%s' % file.split('_')[-1], 'w')\n",
    "    current = chunk.iloc[0,0]\n",
    "    weights = defaultdict(lambda:0)\n",
    "    for idx, row in chunk.iterrows():\n",
    "        if current == row['author_id']:\n",
    "            w = json.loads(row['weights'])\n",
    "            for k, v in w.items():\n",
    "                weights[k] += v\n",
    "        else:\n",
    "            out.write(\"%s\\t%s\\n\" % (current, json.dumps(weights)))\n",
    "            current = row['author_id']\n",
    "            weights = defaultdict(lambda:0, json.loads(row['weights']))\n",
    "    \n",
    "    out.write(\"%s\\t%s\\n\" % (current, json.dumps(weights)))\n",
    "    out.close()\n",
    "    del chunk\n",
    "    \n",
    "    \n",
    "def step_7():\n",
    "    files = glob.glob('data/AuthorsFOS_split/authors_weights_year_2020_split_sorted_*.csv')\n",
    "    print(files[:3])\n",
    "    from tqdm.contrib.concurrent import process_map\n",
    "    process_map(_step_7, files, max_workers=16)"
   ]
  },
  {
   "cell_type": "code",
   "execution_count": null,
   "metadata": {},
   "outputs": [
    {
     "name": "stdout",
     "output_type": "stream",
     "text": [
      "data/authors_weights_year_2020_sorted.csv\n"
     ]
    }
   ],
   "source": [
    "%%time\n",
    "step_7()"
   ]
  },
  {
   "cell_type": "code",
   "execution_count": null,
   "metadata": {},
   "outputs": [],
   "source": []
  }
 ],
 "metadata": {
  "kernelspec": {
   "display_name": "Python 3",
   "language": "python",
   "name": "python3"
  },
  "language_info": {
   "codemirror_mode": {
    "name": "ipython",
    "version": 3
   },
   "file_extension": ".py",
   "mimetype": "text/x-python",
   "name": "python",
   "nbconvert_exporter": "python",
   "pygments_lexer": "ipython3",
   "version": "3.8.3"
  }
 },
 "nbformat": 4,
 "nbformat_minor": 4
}
