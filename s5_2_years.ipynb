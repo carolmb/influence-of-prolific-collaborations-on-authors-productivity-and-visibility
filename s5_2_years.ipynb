{
 "cells": [
  {
   "cell_type": "code",
   "execution_count": 6,
   "metadata": {},
   "outputs": [],
   "source": [
    "import numpy as np\n",
    "import json\n",
    "from collections import defaultdict\n",
    "import pandas as pd\n",
    "import glob\n",
    "import tqdm\n",
    "import multiprocessing\n",
    "import dask.dataframe as dd"
   ]
  },
  {
   "cell_type": "code",
   "execution_count": 9,
   "metadata": {},
   "outputs": [],
   "source": [
    "def join_weights(rows):\n",
    "    W = defaultdict(lambda:0, json.loads(rows.at(0)['weights']))\n",
    "    for row in rows[1:]:\n",
    "        r = json.loads(row['weights'])\n",
    "        for k,v in r.items():\n",
    "            W[k] += v\n",
    "    return json.dumps(W)\n",
    "    \n",
    "\n",
    "def top_fos(w):\n",
    "    maxv = -1\n",
    "    maxk = -1\n",
    "    for k,v in w.items():\n",
    "        if maxv <= float(v):\n",
    "            maxv = float(v)\n",
    "            maxk = k\n",
    "    return maxk\n",
    "    \n",
    "def _step_7(file):\n",
    "    chunk = dd.read_csv(file, sep='\\t', header=None, names=['author_id', 'weights']) # _complete_short_\n",
    "#     out = open('data/AuthorsFOS_split/authors_weights_year_%d_weights_process_%s' % (YEAR, file.split('_')[-1]), 'w')\n",
    "    out = open(output1, 'w')\n",
    "    current = None\n",
    "    for idx, row in chunk.iterrows():\n",
    "        current = row['author_id']\n",
    "        break\n",
    "        \n",
    "    weights = defaultdict(lambda:0)\n",
    "    for idx, row in tqdm.tqdm(chunk.iterrows(), total=len(chunk)):\n",
    "        if current == row['author_id']:\n",
    "            w = json.loads(row['weights'])\n",
    "            for k, v in w.items():\n",
    "                weights[k] += v\n",
    "        else:\n",
    "            if len(weights) > 0:\n",
    "                f = top_fos(weights)\n",
    "                if current == 3118234876:\n",
    "                    print(f, weights)\n",
    "                out.write(\"%s\\t%s\\t%s\\n\" % (current, json.dumps(weights), f))\n",
    "            current = row['author_id']\n",
    "            weights = defaultdict(lambda:0, json.loads(row['weights']))\n",
    "    \n",
    "    f = top_fos(weights)\n",
    "    out.write(\"%s\\t%s\\t%s\\n\" % (current, json.dumps(weights), f))\n",
    "    out.close()\n",
    "    del chunk\n",
    "    \n",
    "    \n",
    "def step_7():\n",
    "    files = glob.glob(source1)\n",
    "    print(files[:3])\n",
    "#     from tqdm.contrib.concurrent import process_map\n",
    "#     process_map(_step_7, files, max_workers=16)\n",
    "    _step_7(files[0])"
   ]
  },
  {
   "cell_type": "code",
   "execution_count": null,
   "metadata": {},
   "outputs": [],
   "source": [
    "%%time\n",
    "YEAR = 2020\n",
    "source1 = 'data/authors_weights_year_%d_sorted.csv' % YEAR\n",
    "source2 = 'data/AuthorsFOS_split/authors_weights_year_%d_split_sorted_*.csv' % YEAR\n",
    "output1 = 'data/authors_weights_year_%d_unfied_fos.csv' % YEAR\n",
    "step_7()"
   ]
  },
  {
   "cell_type": "code",
   "execution_count": null,
   "metadata": {},
   "outputs": [],
   "source": []
  }
 ],
 "metadata": {
  "kernelspec": {
   "display_name": "Python 3",
   "language": "python",
   "name": "python3"
  },
  "language_info": {
   "codemirror_mode": {
    "name": "ipython",
    "version": 3
   },
   "file_extension": ".py",
   "mimetype": "text/x-python",
   "name": "python",
   "nbconvert_exporter": "python",
   "pygments_lexer": "ipython3",
   "version": "3.8.3"
  }
 },
 "nbformat": 4,
 "nbformat_minor": 4
}
