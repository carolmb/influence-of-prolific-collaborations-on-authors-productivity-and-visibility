{
 "cells": [
  {
   "cell_type": "code",
   "execution_count": 1,
   "metadata": {},
   "outputs": [],
   "source": [
    "import csv\n",
    "import dask\n",
    "import pandas as pd\n",
    "from dask import dataframe as dd"
   ]
  },
  {
   "cell_type": "code",
   "execution_count": 2,
   "metadata": {},
   "outputs": [
    {
     "data": {
      "text/html": [
       "<div>\n",
       "<style scoped>\n",
       "    .dataframe tbody tr th:only-of-type {\n",
       "        vertical-align: middle;\n",
       "    }\n",
       "\n",
       "    .dataframe tbody tr th {\n",
       "        vertical-align: top;\n",
       "    }\n",
       "\n",
       "    .dataframe thead th {\n",
       "        text-align: right;\n",
       "    }\n",
       "</style>\n",
       "<table border=\"1\" class=\"dataframe\">\n",
       "  <thead>\n",
       "    <tr style=\"text-align: right;\">\n",
       "      <th></th>\n",
       "      <th>0</th>\n",
       "      <th>4</th>\n",
       "      <th>7</th>\n",
       "    </tr>\n",
       "  </thead>\n",
       "  <tbody>\n",
       "    <tr>\n",
       "      <th>0</th>\n",
       "      <td>2906390199</td>\n",
       "      <td>the impact of different organizational forms o...</td>\n",
       "      <td>2004.0</td>\n",
       "    </tr>\n",
       "    <tr>\n",
       "      <th>1</th>\n",
       "      <td>760496</td>\n",
       "      <td>the impact of different organizational forms o...</td>\n",
       "      <td>2004.0</td>\n",
       "    </tr>\n",
       "    <tr>\n",
       "      <th>2</th>\n",
       "      <td>2789336</td>\n",
       "      <td>inheritance and polymorphism in datalog an exp...</td>\n",
       "      <td>2008.0</td>\n",
       "    </tr>\n",
       "    <tr>\n",
       "      <th>3</th>\n",
       "      <td>2257060365</td>\n",
       "      <td>inheritance and polymorphism in datalog an exp...</td>\n",
       "      <td>2009.0</td>\n",
       "    </tr>\n",
       "    <tr>\n",
       "      <th>4</th>\n",
       "      <td>9552966</td>\n",
       "      <td>the effect of milk on plasmatic and tissue lev...</td>\n",
       "      <td>2005.0</td>\n",
       "    </tr>\n",
       "  </tbody>\n",
       "</table>\n",
       "</div>"
      ],
      "text/plain": [
       "            0                                                  4       7\n",
       "0  2906390199  the impact of different organizational forms o...  2004.0\n",
       "1      760496  the impact of different organizational forms o...  2004.0\n",
       "2     2789336  inheritance and polymorphism in datalog an exp...  2008.0\n",
       "3  2257060365  inheritance and polymorphism in datalog an exp...  2009.0\n",
       "4     9552966  the effect of milk on plasmatic and tissue lev...  2005.0"
      ]
     },
     "execution_count": 2,
     "metadata": {},
     "output_type": "execute_result"
    }
   ],
   "source": [
    "papers = dd.read_csv('/mnt/e/MAG/mag-2021-01-05/mag/Papers.txt', quoting=csv.QUOTE_NONE, header=None, sep='\\t', dtype={16: 'object',\n",
    "       17: 'object',\n",
    "       7: 'float64'})\n",
    "papers.head()\n",
    "\n",
    "papers_title_year = papers[[0, 4, 7]]\n",
    "papers_title_year = papers_title_year[papers_title_year[7] >= 1960]\n",
    "papers_title_year.head()"
   ]
  },
  {
   "cell_type": "code",
   "execution_count": 4,
   "metadata": {},
   "outputs": [
    {
     "data": {
      "text/plain": [
       "['/mnt/e/Ana/author_dep/papers_title_year_mag_sample_1960_20210105.csv']"
      ]
     },
     "execution_count": 4,
     "metadata": {},
     "output_type": "execute_result"
    }
   ],
   "source": [
    "sample = papers_title_year.sample(frac=0.01)\n",
    "sample.to_csv('papers_title_year_mag_sample_1960_20210105.csv', single_file=True, index=None, header=None, sep='\\t')"
   ]
  },
  {
   "cell_type": "code",
   "execution_count": 5,
   "metadata": {},
   "outputs": [],
   "source": [
    "papers_title_year_valid = pd.read_csv('papers_title_year_mag_sample_1960_20210105.csv', sep='\\t', header=None)\n",
    "valid_ids = set(papers_title_year_valid[0].tolist())"
   ]
  },
  {
   "cell_type": "code",
   "execution_count": 6,
   "metadata": {},
   "outputs": [
    {
     "data": {
      "text/plain": [
       "['/mnt/e/Ana/author_dep/papers_abst_mag_sample_1970_20210105.csv']"
      ]
     },
     "execution_count": 6,
     "metadata": {},
     "output_type": "execute_result"
    }
   ],
   "source": [
    "abstracts = dd.read_csv('/mnt/e/MAG/mag-2021-01-05/nlp/PaperAbstractsInvertedIndex.txt.*', sep='\\t', header=None)\n",
    "valid_abs = abstracts[abstracts[0].isin(valid_ids)]\n",
    "valid_abs.to_csv('papers_abst_mag_sample_1960_20210105.csv', single_file=True, index=None, header=None, sep='\\t')"
   ]
  },
  {
   "cell_type": "code",
   "execution_count": null,
   "metadata": {},
   "outputs": [],
   "source": []
  },
  {
   "cell_type": "code",
   "execution_count": 7,
   "metadata": {},
   "outputs": [
    {
     "data": {
      "text/html": [
       "<div>\n",
       "<style scoped>\n",
       "    .dataframe tbody tr th:only-of-type {\n",
       "        vertical-align: middle;\n",
       "    }\n",
       "\n",
       "    .dataframe tbody tr th {\n",
       "        vertical-align: top;\n",
       "    }\n",
       "\n",
       "    .dataframe thead th {\n",
       "        text-align: right;\n",
       "    }\n",
       "</style>\n",
       "<table border=\"1\" class=\"dataframe\">\n",
       "  <thead>\n",
       "    <tr style=\"text-align: right;\">\n",
       "      <th></th>\n",
       "      <th>0</th>\n",
       "      <th>1</th>\n",
       "    </tr>\n",
       "  </thead>\n",
       "  <tbody>\n",
       "    <tr>\n",
       "      <th>0</th>\n",
       "      <td>15</td>\n",
       "      <td>{\"138885662\": 0.25, \"142362112\": 0.25, \"177444...</td>\n",
       "    </tr>\n",
       "    <tr>\n",
       "      <th>1</th>\n",
       "      <td>23</td>\n",
       "      <td>{\"71924100\": 0.8, \"86803240\": 0.15, \"185592680...</td>\n",
       "    </tr>\n",
       "    <tr>\n",
       "      <th>2</th>\n",
       "      <td>58</td>\n",
       "      <td>{\"33923547\": 0.2, \"121332964\": 0.6000000000000...</td>\n",
       "    </tr>\n",
       "    <tr>\n",
       "      <th>3</th>\n",
       "      <td>79</td>\n",
       "      <td>{\"86803240\": 0.4, \"185592680\": 0.1, \"71924100\"...</td>\n",
       "    </tr>\n",
       "    <tr>\n",
       "      <th>4</th>\n",
       "      <td>108</td>\n",
       "      <td>{\"138885662\": 0.525, \"142362112\": 0.3666666666...</td>\n",
       "    </tr>\n",
       "  </tbody>\n",
       "</table>\n",
       "</div>"
      ],
      "text/plain": [
       "     0                                                  1\n",
       "0   15  {\"138885662\": 0.25, \"142362112\": 0.25, \"177444...\n",
       "1   23  {\"71924100\": 0.8, \"86803240\": 0.15, \"185592680...\n",
       "2   58  {\"33923547\": 0.2, \"121332964\": 0.6000000000000...\n",
       "3   79  {\"86803240\": 0.4, \"185592680\": 0.1, \"71924100\"...\n",
       "4  108  {\"138885662\": 0.525, \"142362112\": 0.3666666666..."
      ]
     },
     "execution_count": 7,
     "metadata": {},
     "output_type": "execute_result"
    }
   ],
   "source": [
    "papers_fields = dd.read_csv('data/PaperFOS_split/*.csv', sep='\\t', header=None)\n",
    "papers_fields.head()"
   ]
  },
  {
   "cell_type": "code",
   "execution_count": 8,
   "metadata": {},
   "outputs": [
    {
     "data": {
      "text/plain": [
       "['/mnt/e/Ana/author_dep/papers_fields_mag_sample_1960_20210105.csv']"
      ]
     },
     "execution_count": 8,
     "metadata": {},
     "output_type": "execute_result"
    }
   ],
   "source": [
    "valid_fields = papers_fields[papers_fields[0].isin(valid_ids)]\n",
    "valid_fields.to_csv('papers_fields_mag_sample_1960_20210105.csv', single_file=True, index=None, header=None, sep='\\t')"
   ]
  },
  {
   "cell_type": "code",
   "execution_count": null,
   "metadata": {},
   "outputs": [],
   "source": []
  }
 ],
 "metadata": {
  "kernelspec": {
   "display_name": "Python 3",
   "language": "python",
   "name": "python3"
  },
  "language_info": {
   "codemirror_mode": {
    "name": "ipython",
    "version": 3
   },
   "file_extension": ".py",
   "mimetype": "text/x-python",
   "name": "python",
   "nbconvert_exporter": "python",
   "pygments_lexer": "ipython3",
   "version": "3.8.3"
  }
 },
 "nbformat": 4,
 "nbformat_minor": 4
}
